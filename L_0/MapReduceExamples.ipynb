{
 "nbformat": 4,
 "nbformat_minor": 0,
 "metadata": {
  "colab": {
   "provenance": []
  },
  "kernelspec": {
   "name": "python3",
   "display_name": "Python 3 (ipykernel)",
   "language": "python"
  }
 },
 "cells": [
  {
   "cell_type": "markdown",
   "metadata": {
    "id": "82OvPKEiEqjc"
   },
   "source": [
    "# Введение в MapReduce модель на Python\n"
   ]
  },
  {
   "cell_type": "code",
   "metadata": {
    "id": "JQ2cvXLjICmI",
    "ExecuteTime": {
     "end_time": "2025-02-27T17:58:56.719623Z",
     "start_time": "2025-02-27T17:58:56.707595Z"
    }
   },
   "source": [
    "from typing import NamedTuple # requires python 3.6+\n",
    "from typing import Iterator"
   ],
   "outputs": [],
   "execution_count": 140
  },
  {
   "cell_type": "code",
   "metadata": {
    "id": "yjPHumVwEyEg",
    "ExecuteTime": {
     "end_time": "2025-02-27T17:58:56.750660Z",
     "start_time": "2025-02-27T17:58:56.736152Z"
    }
   },
   "source": [
    "def MAP(_, row:NamedTuple):\n",
    "  if (row.gender == 'female'):\n",
    "    yield (row.age, row)\n",
    "    \n",
    "def REDUCE(age:str, rows:Iterator[NamedTuple]):\n",
    "  sum = 0\n",
    "  count = 0\n",
    "  for row in rows:\n",
    "    sum += row.social_contacts\n",
    "    count += 1\n",
    "  if (count > 0):\n",
    "    yield (age, sum/count)\n",
    "  else:\n",
    "    yield (age, 0)"
   ],
   "outputs": [],
   "execution_count": 141
  },
  {
   "cell_type": "markdown",
   "metadata": {
    "id": "vBKMgpG_ilaZ"
   },
   "source": [
    "Модель элемента данных"
   ]
  },
  {
   "cell_type": "code",
   "metadata": {
    "id": "Rv-XIjhTJPx3",
    "ExecuteTime": {
     "end_time": "2025-02-27T17:58:56.765429Z",
     "start_time": "2025-02-27T17:58:56.755920Z"
    }
   },
   "source": [
    "class User(NamedTuple):\n",
    "  id: int\n",
    "  age: str\n",
    "  social_contacts: int\n",
    "  gender: str"
   ],
   "outputs": [],
   "execution_count": 142
  },
  {
   "cell_type": "code",
   "metadata": {
    "id": "5KV0Ze2vQgu5",
    "ExecuteTime": {
     "end_time": "2025-02-27T17:58:56.795991Z",
     "start_time": "2025-02-27T17:58:56.781454Z"
    }
   },
   "source": [
    "input_collection = [\n",
    "    User(id=0, age=55, gender='male', social_contacts=20),\n",
    "    User(id=1, age=25, gender='female', social_contacts=240),\n",
    "    User(id=2, age=25, gender='female', social_contacts=500),\n",
    "    User(id=3, age=33, gender='female', social_contacts=800)\n",
    "]"
   ],
   "outputs": [],
   "execution_count": 143
  },
  {
   "cell_type": "markdown",
   "metadata": {
    "id": "YFeqzyZxZIFZ"
   },
   "source": [
    "Функция RECORDREADER моделирует чтение элементов с диска или по сети."
   ]
  },
  {
   "cell_type": "code",
   "metadata": {
    "id": "S5HR4E_GQoMJ",
    "ExecuteTime": {
     "end_time": "2025-02-27T17:58:56.826810Z",
     "start_time": "2025-02-27T17:58:56.813380Z"
    }
   },
   "source": [
    "def RECORDREADER():\n",
    "  return [(u.id, u) for u in input_collection]"
   ],
   "outputs": [],
   "execution_count": 144
  },
  {
   "cell_type": "code",
   "metadata": {
    "id": "NeEoWla-ROUy",
    "colab": {
     "base_uri": "https://localhost:8080/",
     "height": 85
    },
    "outputId": "94ca6e0e-4644-4282-acbf-1759d7ba2918",
    "ExecuteTime": {
     "end_time": "2025-02-27T17:58:56.857905Z",
     "start_time": "2025-02-27T17:58:56.843329Z"
    }
   },
   "source": [
    "list(RECORDREADER())"
   ],
   "outputs": [
    {
     "data": {
      "text/plain": [
       "[(0, User(id=0, age=55, social_contacts=20, gender='male')),\n",
       " (1, User(id=1, age=25, social_contacts=240, gender='female')),\n",
       " (2, User(id=2, age=25, social_contacts=500, gender='female')),\n",
       " (3, User(id=3, age=33, social_contacts=800, gender='female'))]"
      ]
     },
     "execution_count": 145,
     "metadata": {},
     "output_type": "execute_result"
    }
   ],
   "execution_count": 145
  },
  {
   "cell_type": "code",
   "metadata": {
    "id": "YB8orgPSZs8M",
    "ExecuteTime": {
     "end_time": "2025-02-27T17:58:56.918542Z",
     "start_time": "2025-02-27T17:58:56.904524Z"
    }
   },
   "source": [
    "def flatten(nested_iterable):\n",
    "  for iterable in nested_iterable:\n",
    "    for element in iterable:\n",
    "      yield element"
   ],
   "outputs": [],
   "execution_count": 146
  },
  {
   "cell_type": "code",
   "metadata": {
    "id": "74oyvDLaRmd5",
    "colab": {
     "base_uri": "https://localhost:8080/",
     "height": 68
    },
    "outputId": "c6147702-7153-47c7-a574-d5fe6abe29a8",
    "ExecuteTime": {
     "end_time": "2025-02-27T17:58:56.948898Z",
     "start_time": "2025-02-27T17:58:56.934869Z"
    }
   },
   "source": [
    "map_output = flatten(map(lambda x: MAP(*x), RECORDREADER()))\n",
    "map_output = list(map_output) # materialize\n",
    "map_output"
   ],
   "outputs": [
    {
     "data": {
      "text/plain": [
       "[(25, User(id=1, age=25, social_contacts=240, gender='female')),\n",
       " (25, User(id=2, age=25, social_contacts=500, gender='female')),\n",
       " (33, User(id=3, age=33, social_contacts=800, gender='female'))]"
      ]
     },
     "execution_count": 147,
     "metadata": {},
     "output_type": "execute_result"
    }
   ],
   "execution_count": 147
  },
  {
   "cell_type": "code",
   "metadata": {
    "id": "8ncYDJ3-VzDn",
    "ExecuteTime": {
     "end_time": "2025-02-27T17:58:56.994489Z",
     "start_time": "2025-02-27T17:58:56.979949Z"
    }
   },
   "source": [
    "def groupbykey(iterable):\n",
    "  t = {}\n",
    "  for (k2, v2) in iterable:\n",
    "    t[k2] = t.get(k2, []) + [v2]\n",
    "  return t.items()"
   ],
   "outputs": [],
   "execution_count": 148
  },
  {
   "cell_type": "code",
   "metadata": {
    "id": "cKzY_6COWOA2",
    "colab": {
     "base_uri": "https://localhost:8080/",
     "height": 85
    },
    "outputId": "e6791b12-e409-47e9-bcd4-e9f8ca8611bd",
    "ExecuteTime": {
     "end_time": "2025-02-27T17:58:57.025088Z",
     "start_time": "2025-02-27T17:58:57.011073Z"
    }
   },
   "source": [
    "shuffle_output = groupbykey(map_output)\n",
    "shuffle_output = list(shuffle_output)\n",
    "shuffle_output"
   ],
   "outputs": [
    {
     "data": {
      "text/plain": [
       "[(25,\n",
       "  [User(id=1, age=25, social_contacts=240, gender='female'),\n",
       "   User(id=2, age=25, social_contacts=500, gender='female')]),\n",
       " (33, [User(id=3, age=33, social_contacts=800, gender='female')])]"
      ]
     },
     "execution_count": 149,
     "metadata": {},
     "output_type": "execute_result"
    }
   ],
   "execution_count": 149
  },
  {
   "cell_type": "code",
   "metadata": {
    "id": "NlA7lkDDYL0t",
    "colab": {
     "base_uri": "https://localhost:8080/",
     "height": 34
    },
    "outputId": "6b25d03f-5c92-4f3b-f500-6d70acd598b7",
    "ExecuteTime": {
     "end_time": "2025-02-27T17:58:57.086200Z",
     "start_time": "2025-02-27T17:58:57.072550Z"
    }
   },
   "source": [
    "reduce_output = flatten(map(lambda x: REDUCE(*x), shuffle_output))\n",
    "reduce_output = list(reduce_output)\n",
    "reduce_output"
   ],
   "outputs": [
    {
     "data": {
      "text/plain": [
       "[(25, 370.0), (33, 800.0)]"
      ]
     },
     "execution_count": 150,
     "metadata": {},
     "output_type": "execute_result"
    }
   ],
   "execution_count": 150
  },
  {
   "cell_type": "markdown",
   "metadata": {
    "id": "xf6qhHEtd6bI"
   },
   "source": [
    "Все действия одним конвейером!"
   ]
  },
  {
   "cell_type": "code",
   "metadata": {
    "id": "dZaQGYxCdpw5",
    "colab": {
     "base_uri": "https://localhost:8080/",
     "height": 34
    },
    "outputId": "3f5c6425-e5c5-49d2-b2cd-ce58a9acc33c",
    "ExecuteTime": {
     "end_time": "2025-02-27T17:58:57.147665Z",
     "start_time": "2025-02-27T17:58:57.142158Z"
    }
   },
   "source": [
    "list(flatten(map(lambda x: REDUCE(*x), groupbykey(flatten(map(lambda x: MAP(*x), RECORDREADER()))))))"
   ],
   "outputs": [
    {
     "data": {
      "text/plain": [
       "[(25, 370.0), (33, 800.0)]"
      ]
     },
     "execution_count": 151,
     "metadata": {},
     "output_type": "execute_result"
    }
   ],
   "execution_count": 151
  },
  {
   "cell_type": "markdown",
   "metadata": {
    "id": "Vq3EWRIpwSiJ"
   },
   "source": [
    "# **MapReduce**\n",
    "Выделим общую для всех пользователей часть системы в отдельную функцию высшего порядка. Это наиболее простая модель MapReduce, без учёта распределённого хранения данных. \n",
    "\n",
    "Пользователь для решения своей задачи реализует RECORDREADER, MAP, REDUCE."
   ]
  },
  {
   "cell_type": "code",
   "metadata": {
    "id": "V1PZeQMwwVjc",
    "ExecuteTime": {
     "end_time": "2025-02-27T17:58:57.208585Z",
     "start_time": "2025-02-27T17:58:57.204585Z"
    }
   },
   "source": [
    "def flatten(nested_iterable):\n",
    "  for iterable in nested_iterable:\n",
    "    for element in iterable:\n",
    "      yield element\n",
    "\n",
    "def groupbykey(iterable):\n",
    "  t = {}\n",
    "  for (k2, v2) in iterable:\n",
    "    t[k2] = t.get(k2, []) + [v2]\n",
    "  return t.items()\n",
    "\n",
    "def MapReduce(RECORDREADER, MAP, REDUCE):\n",
    "  return flatten(map(lambda x: REDUCE(*x), groupbykey(flatten(map(lambda x: MAP(*x), RECORDREADER())))))"
   ],
   "outputs": [],
   "execution_count": 152
  },
  {
   "cell_type": "markdown",
   "metadata": {
    "id": "iFIVrimep678"
   },
   "source": [
    "## Спецификация MapReduce\n",
    "\n",
    "\n",
    "\n",
    "```\n",
    "f (k1, v1) -> (k2,v2)*\n",
    "g (k2, v2*) -> (k3,v3)*\n",
    " \n",
    "mapreduce ((k1,v1)*) -> (k3,v3)*\n",
    "groupby ((k2,v2)*) -> (k2,v2*)*\n",
    "flatten (e2**) -> e2*\n",
    " \n",
    "mapreduce .map(f).flatten.groupby(k2).map(g).flatten\n",
    "```\n",
    "\n",
    "\n"
   ]
  },
  {
   "cell_type": "markdown",
   "metadata": {
    "id": "QtTFyqke3KGe"
   },
   "source": [
    "# Примеры"
   ]
  },
  {
   "cell_type": "markdown",
   "metadata": {
    "id": "BNhh5763w5Vn"
   },
   "source": [
    "## SQL "
   ]
  },
  {
   "cell_type": "code",
   "metadata": {
    "id": "QkyurnvGxBGk",
    "colab": {
     "base_uri": "https://localhost:8080/",
     "height": 34
    },
    "outputId": "84761282-d2ba-435a-e8d7-a85150730e10",
    "ExecuteTime": {
     "end_time": "2025-02-27T17:58:57.254753Z",
     "start_time": "2025-02-27T17:58:57.237735Z"
    }
   },
   "source": [
    "from typing import NamedTuple # requires python 3.6+\n",
    "from typing import Iterator\n",
    "\n",
    "class User(NamedTuple):\n",
    "  id: int\n",
    "  age: str\n",
    "  social_contacts: int\n",
    "  gender: str\n",
    "    \n",
    "input_collection = [\n",
    "    User(id=0, age=55, gender='male', social_contacts=20),\n",
    "    User(id=1, age=25, gender='female', social_contacts=240),\n",
    "    User(id=2, age=25, gender='female', social_contacts=500),\n",
    "    User(id=3, age=33, gender='female', social_contacts=800)\n",
    "]\n",
    "\n",
    "def MAP(_, row:NamedTuple):\n",
    "  if (row.gender == 'female'):\n",
    "    yield (row.age, row)\n",
    "    \n",
    "def REDUCE(age:str, rows:Iterator[NamedTuple]):\n",
    "  sum = 0\n",
    "  count = 0\n",
    "  for row in rows:\n",
    "    sum += row.social_contacts\n",
    "    count += 1\n",
    "  if (count > 0):\n",
    "    yield (age, sum/count)\n",
    "  else:\n",
    "    yield (age, 0)\n",
    " \n",
    "def RECORDREADER():\n",
    "  return [(u.id, u) for u in input_collection]\n",
    "\n",
    "output = MapReduce(RECORDREADER, MAP, REDUCE)\n",
    "output = list(output)\n",
    "output"
   ],
   "outputs": [
    {
     "data": {
      "text/plain": [
       "[(25, 370.0), (33, 800.0)]"
      ]
     },
     "execution_count": 153,
     "metadata": {},
     "output_type": "execute_result"
    }
   ],
   "execution_count": 153
  },
  {
   "cell_type": "markdown",
   "metadata": {
    "id": "kNKYIeerx0nY"
   },
   "source": [
    "## Matrix-Vector multiplication "
   ]
  },
  {
   "cell_type": "code",
   "metadata": {
    "id": "rwcntRcCyi1V",
    "colab": {
     "base_uri": "https://localhost:8080/",
     "height": 102
    },
    "outputId": "606737ab-6b55-455c-931f-4fc45155f8a9",
    "ExecuteTime": {
     "end_time": "2025-02-27T17:58:57.314802Z",
     "start_time": "2025-02-27T17:58:57.301777Z"
    }
   },
   "source": [
    "from typing import Iterator\n",
    "import numpy as np\n",
    "\n",
    "mat = np.ones((5,4))\n",
    "vec = np.random.rand(4) # in-memory vector in all map tasks\n",
    "\n",
    "def MAP(coordinates:(int, int), value:int):\n",
    "  i, j = coordinates\n",
    "  yield (i, value*vec[j])\n",
    " \n",
    "def REDUCE(i:int, products:Iterator[NamedTuple]):\n",
    "  sum = 0\n",
    "  for p in products:\n",
    "    sum += p\n",
    "  yield (i, sum)\n",
    "\n",
    "def RECORDREADER():\n",
    "  for i in range(mat.shape[0]):\n",
    "    for j in range(mat.shape[1]):\n",
    "      yield ((i, j), mat[i,j])\n",
    "      \n",
    "output = MapReduce(RECORDREADER, MAP, REDUCE)\n",
    "output = list(output)\n",
    "output"
   ],
   "outputs": [
    {
     "data": {
      "text/plain": [
       "[(0, np.float64(2.0561552965469185)),\n",
       " (1, np.float64(2.0561552965469185)),\n",
       " (2, np.float64(2.0561552965469185)),\n",
       " (3, np.float64(2.0561552965469185)),\n",
       " (4, np.float64(2.0561552965469185))]"
      ]
     },
     "execution_count": 154,
     "metadata": {},
     "output_type": "execute_result"
    }
   ],
   "execution_count": 154
  },
  {
   "cell_type": "markdown",
   "metadata": {
    "id": "ruZREYdi2o4O"
   },
   "source": [
    "## Inverted index "
   ]
  },
  {
   "cell_type": "code",
   "metadata": {
    "id": "vt9H9Alf3TYv",
    "colab": {
     "base_uri": "https://localhost:8080/",
     "height": 102
    },
    "outputId": "51aeffc9-e111-4607-bd84-cfcc7b56f238",
    "ExecuteTime": {
     "end_time": "2025-02-27T17:58:57.359746Z",
     "start_time": "2025-02-27T17:58:57.342334Z"
    }
   },
   "source": [
    "from typing import Iterator\n",
    "\n",
    "d1 = \"it is what it is\"\n",
    "d2 = \"what is it\"\n",
    "d3 = \"it is a banana\"\n",
    "documents = [d1, d2, d3]\n",
    "\n",
    "def RECORDREADER():\n",
    "  for (docid, document) in enumerate(documents):\n",
    "    yield (\"{}\".format(docid), document)\n",
    "      \n",
    "def MAP(docId:str, body:str):\n",
    "  for word in set(body.split(' ')):\n",
    "    yield (word, docId)\n",
    " \n",
    "def REDUCE(word:str, docIds:Iterator[str]):\n",
    "  yield (word, sorted(docIds))\n",
    "\n",
    "output = MapReduce(RECORDREADER, MAP, REDUCE)\n",
    "output = list(output)\n",
    "output"
   ],
   "outputs": [
    {
     "data": {
      "text/plain": [
       "[('it', ['0', '1', '2']),\n",
       " ('what', ['0', '1']),\n",
       " ('is', ['0', '1', '2']),\n",
       " ('banana', ['2']),\n",
       " ('a', ['2'])]"
      ]
     },
     "execution_count": 155,
     "metadata": {},
     "output_type": "execute_result"
    }
   ],
   "execution_count": 155
  },
  {
   "cell_type": "markdown",
   "metadata": {
    "id": "R7az-6DA6qr2"
   },
   "source": [
    "## WordCount"
   ]
  },
  {
   "cell_type": "code",
   "metadata": {
    "id": "dN-nbtgG6uYG",
    "colab": {
     "base_uri": "https://localhost:8080/",
     "height": 34
    },
    "outputId": "24117576-7931-401d-a581-28e246b23453",
    "ExecuteTime": {
     "end_time": "2025-02-27T17:58:57.390788Z",
     "start_time": "2025-02-27T17:58:57.376773Z"
    }
   },
   "source": [
    "from typing import Iterator\n",
    "\n",
    "d1 = \"\"\"\n",
    "it is what it is\n",
    "it is what it is\n",
    "it is what it is\"\"\"\n",
    "d2 = \"\"\"\n",
    "what is it\n",
    "what is it\"\"\"\n",
    "d3 = \"\"\"\n",
    "it is a banana\"\"\"\n",
    "documents = [d1, d2, d3]\n",
    "\n",
    "def RECORDREADER():\n",
    "  for (docid, document) in enumerate(documents):\n",
    "    for (lineid, line) in enumerate(document.split('\\n')):\n",
    "      yield (\"{}:{}\".format(docid,lineid), line)\n",
    "\n",
    "def MAP(docId:str, line:str):\n",
    "  for word in line.split(\" \"):  \n",
    "    yield (word, 1)\n",
    " \n",
    "def REDUCE(word:str, counts:Iterator[int]):\n",
    "  sum = 0\n",
    "  for c in counts:\n",
    "    sum += c\n",
    "  yield (word, sum)\n",
    "\n",
    "output = MapReduce(RECORDREADER, MAP, REDUCE)\n",
    "output = list(output)\n",
    "output"
   ],
   "outputs": [
    {
     "data": {
      "text/plain": [
       "[('', 3), ('it', 9), ('is', 9), ('what', 5), ('a', 1), ('banana', 1)]"
      ]
     },
     "execution_count": 156,
     "metadata": {},
     "output_type": "execute_result"
    }
   ],
   "execution_count": 156
  },
  {
   "cell_type": "markdown",
   "metadata": {
    "id": "h-jRAcYCAkkk"
   },
   "source": [
    "# MapReduce Distributed\n",
    "\n",
    "Добавляется в модель фабрика RECORDREARER-ов --- INPUTFORMAT, функция распределения промежуточных результатов по партициям PARTITIONER, и функция COMBINER для частичной аггрегации промежуточных результатов до распределения по новым партициям."
   ]
  },
  {
   "cell_type": "code",
   "metadata": {
    "id": "nw-b-xJsApgW",
    "ExecuteTime": {
     "end_time": "2025-02-27T17:58:57.421374Z",
     "start_time": "2025-02-27T17:58:57.408354Z"
    }
   },
   "source": [
    "def flatten(nested_iterable):\n",
    "  for iterable in nested_iterable:\n",
    "    for element in iterable:\n",
    "      yield element\n",
    "\n",
    "def groupbykey(iterable):\n",
    "  t = {}\n",
    "  for (k2, v2) in iterable:\n",
    "    t[k2] = t.get(k2, []) + [v2]\n",
    "  return t.items()\n",
    "      \n",
    "def groupbykey_distributed(map_partitions, PARTITIONER):\n",
    "  global reducers\n",
    "  partitions = [dict() for _ in range(reducers)]\n",
    "  for map_partition in map_partitions:\n",
    "    for (k2, v2) in map_partition:\n",
    "      p = partitions[PARTITIONER(k2)]\n",
    "      p[k2] = p.get(k2, []) + [v2]\n",
    "  return [(partition_id, sorted(partition.items(), key=lambda x: x[0])) for (partition_id, partition) in enumerate(partitions)]\n",
    " \n",
    "def PARTITIONER(obj):\n",
    "  global reducers\n",
    "  return hash(obj) % reducers\n",
    "  \n",
    "def MapReduceDistributed(INPUTFORMAT, MAP, REDUCE, PARTITIONER=PARTITIONER, COMBINER=None):\n",
    "  map_partitions = map(lambda record_reader: flatten(map(lambda k1v1: MAP(*k1v1), record_reader)), INPUTFORMAT())\n",
    "  if COMBINER != None:\n",
    "    map_partitions = map(lambda map_partition: flatten(map(lambda k2v2: COMBINER(*k2v2), groupbykey(map_partition))), map_partitions)\n",
    "  reduce_partitions = groupbykey_distributed(map_partitions, PARTITIONER) # shuffle\n",
    "  reduce_outputs = map(lambda reduce_partition: (reduce_partition[0], flatten(map(lambda reduce_input_group: REDUCE(*reduce_input_group), reduce_partition[1]))), reduce_partitions)\n",
    "  \n",
    "  print(\"{} key-value pairs were sent over a network.\".format(sum([len(vs) for (k,vs) in flatten([partition for (partition_id, partition) in reduce_partitions])])))\n",
    "  return reduce_outputs"
   ],
   "outputs": [],
   "execution_count": 157
  },
  {
   "cell_type": "markdown",
   "metadata": {
    "id": "kxirlf3XqZxY"
   },
   "source": [
    "## Спецификация MapReduce Distributed\n",
    "\n",
    "\n",
    "```\n",
    "f (k1, v1) -> (k2,v2)*\n",
    "g (k2, v2*) -> (k3,v3)*\n",
    " \n",
    "e1 (k1, v1)\n",
    "e2 (k2, v2)\n",
    "partition1 (k2, v2)*\n",
    "partition2 (k2, v2*)*\n",
    " \n",
    "flatmap (e1->e2*, e1*) -> partition1*\n",
    "groupby (partition1*) -> partition2*\n",
    "\n",
    "mapreduce ((k1,v1)*) -> (k3,v3)*\n",
    "mapreduce .flatmap(f).groupby(k2).flatmap(g)\n",
    "```\n",
    "\n"
   ]
  },
  {
   "cell_type": "markdown",
   "metadata": {
    "id": "CWYw_CpbbY3C"
   },
   "source": [
    "## WordCount "
   ]
  },
  {
   "cell_type": "code",
   "metadata": {
    "id": "uR_zfGFkMZlp",
    "colab": {
     "base_uri": "https://localhost:8080/",
     "height": 68
    },
    "outputId": "c8d46167-473d-43b9-881a-2396991b3731",
    "ExecuteTime": {
     "end_time": "2025-02-27T17:58:57.451636Z",
     "start_time": "2025-02-27T17:58:57.438910Z"
    }
   },
   "source": [
    "from typing import Iterator\n",
    "import numpy as np\n",
    "\n",
    "d1 = \"\"\"\n",
    "it is what it is\n",
    "it is what it is\n",
    "it is what it is\"\"\"\n",
    "d2 = \"\"\"\n",
    "what is it\n",
    "what is it\"\"\"\n",
    "d3 = \"\"\"\n",
    "it is a banana\"\"\"\n",
    "documents = [d1, d2, d3, d1, d2, d3]\n",
    "\n",
    "maps = 3\n",
    "reducers = 2\n",
    "\n",
    "def INPUTFORMAT():\n",
    "  global maps\n",
    "  \n",
    "  def RECORDREADER(split):\n",
    "    for (docid, document) in enumerate(split):\n",
    "      for (lineid, line) in enumerate(document.split('\\n')):\n",
    "        yield (\"{}:{}\".format(docid,lineid), line)\n",
    "      \n",
    "  split_size =  int(np.ceil(len(documents)/maps))\n",
    "  for i in range(0, len(documents), split_size):\n",
    "    yield RECORDREADER(documents[i:i+split_size])\n",
    "\n",
    "def MAP(docId:str, line:str):\n",
    "  for word in line.split(\" \"):  \n",
    "    yield (word, 1)\n",
    " \n",
    "def REDUCE(word:str, counts:Iterator[int]):\n",
    "  sum = 0\n",
    "  for c in counts:\n",
    "    sum += c\n",
    "  yield (word, sum)\n",
    "  \n",
    "# try to set COMBINER=REDUCER and look at the number of values sent over the network \n",
    "partitioned_output = MapReduceDistributed(INPUTFORMAT, MAP, REDUCE, COMBINER=None) \n",
    "partitioned_output = [(partition_id, list(partition)) for (partition_id, partition) in partitioned_output]\n",
    "partitioned_output"
   ],
   "outputs": [
    {
     "name": "stdout",
     "output_type": "stream",
     "text": [
      "56 key-value pairs were sent over a network.\n"
     ]
    },
    {
     "data": {
      "text/plain": [
       "[(0, [('', 6), ('a', 2), ('is', 18), ('it', 18)]),\n",
       " (1, [('banana', 2), ('what', 10)])]"
      ]
     },
     "execution_count": 158,
     "metadata": {},
     "output_type": "execute_result"
    }
   ],
   "execution_count": 158
  },
  {
   "cell_type": "markdown",
   "metadata": {
    "id": "gCJGx8IQ87xS"
   },
   "source": [
    "## TeraSort"
   ]
  },
  {
   "cell_type": "code",
   "metadata": {
    "id": "P2v8v1v_8_YR",
    "colab": {
     "base_uri": "https://localhost:8080/",
     "height": 578
    },
    "outputId": "e0987c25-9757-46cb-8e55-d5d2adfbee2b",
    "ExecuteTime": {
     "end_time": "2025-02-27T17:58:57.482175Z",
     "start_time": "2025-02-27T17:58:57.468663Z"
    }
   },
   "source": [
    "import numpy as np\n",
    "\n",
    "input_values = np.random.rand(30)\n",
    "maps = 3\n",
    "reducers = 2\n",
    "min_value = 0.0\n",
    "max_value = 1.0\n",
    "\n",
    "def INPUTFORMAT():\n",
    "  global maps\n",
    "  \n",
    "  def RECORDREADER(split):\n",
    "    for value in split:\n",
    "        yield (value, None)\n",
    "      \n",
    "  split_size =  int(np.ceil(len(input_values)/maps))\n",
    "  for i in range(0, len(input_values), split_size):\n",
    "    yield RECORDREADER(input_values[i:i+split_size])\n",
    "    \n",
    "def MAP(value:int, _):\n",
    "  yield (value, None)\n",
    "  \n",
    "def PARTITIONER(key):\n",
    "  global reducers\n",
    "  global max_value\n",
    "  global min_value\n",
    "  bucket_size = (max_value-min_value)/reducers\n",
    "  bucket_id = 0\n",
    "  while((key>(bucket_id+1)*bucket_size) and ((bucket_id+1)*bucket_size<max_value)):\n",
    "    bucket_id += 1\n",
    "  return bucket_id\n",
    "\n",
    "def REDUCE(value:int, _):\n",
    "  yield (None,value)\n",
    "  \n",
    "partitioned_output = MapReduceDistributed(INPUTFORMAT, MAP, REDUCE, COMBINER=None, PARTITIONER=PARTITIONER)\n",
    "partitioned_output = [(partition_id, list(partition)) for (partition_id, partition) in partitioned_output]\n",
    "partitioned_output"
   ],
   "outputs": [
    {
     "name": "stdout",
     "output_type": "stream",
     "text": [
      "30 key-value pairs were sent over a network.\n"
     ]
    },
    {
     "data": {
      "text/plain": [
       "[(0,\n",
       "  [(None, np.float64(0.031935634240972566)),\n",
       "   (None, np.float64(0.11691246582267845)),\n",
       "   (None, np.float64(0.11945652156292264)),\n",
       "   (None, np.float64(0.22033490461423222)),\n",
       "   (None, np.float64(0.2410633880277554)),\n",
       "   (None, np.float64(0.2841802326661095)),\n",
       "   (None, np.float64(0.29174048456693147)),\n",
       "   (None, np.float64(0.398736028816858)),\n",
       "   (None, np.float64(0.42786023620542857)),\n",
       "   (None, np.float64(0.43789146608740215)),\n",
       "   (None, np.float64(0.46212232533625675)),\n",
       "   (None, np.float64(0.4644151669946819)),\n",
       "   (None, np.float64(0.4833865981740264)),\n",
       "   (None, np.float64(0.4929610017757182))]),\n",
       " (1,\n",
       "  [(None, np.float64(0.5079252789090506)),\n",
       "   (None, np.float64(0.5209030504089659)),\n",
       "   (None, np.float64(0.5248042105965424)),\n",
       "   (None, np.float64(0.5628209825514109)),\n",
       "   (None, np.float64(0.6020911211182765)),\n",
       "   (None, np.float64(0.6458411166548984)),\n",
       "   (None, np.float64(0.679454581831782)),\n",
       "   (None, np.float64(0.6870939503947159)),\n",
       "   (None, np.float64(0.7297262997501254)),\n",
       "   (None, np.float64(0.7711213092925042)),\n",
       "   (None, np.float64(0.8325421917887729)),\n",
       "   (None, np.float64(0.8607410168915872)),\n",
       "   (None, np.float64(0.887783970146293)),\n",
       "   (None, np.float64(0.9538620735796811)),\n",
       "   (None, np.float64(0.9608401149731018)),\n",
       "   (None, np.float64(0.9835558032381522))])]"
      ]
     },
     "execution_count": 159,
     "metadata": {},
     "output_type": "execute_result"
    }
   ],
   "execution_count": 159
  },
  {
   "cell_type": "code",
   "metadata": {
    "id": "MQhoJaVZI93G",
    "ExecuteTime": {
     "end_time": "2025-02-27T17:58:57.512724Z",
     "start_time": "2025-02-27T17:58:57.498707Z"
    }
   },
   "source": [],
   "outputs": [],
   "execution_count": null
  },
  {
   "cell_type": "markdown",
   "metadata": {
    "id": "Iy65YJTH99iT"
   },
   "source": [
    "# Упражнения\n",
    "Упражнения взяты из Rajaraman A., Ullman J. D. Mining of massive datasets. – Cambridge University Press, 2011.\n",
    "\n",
    "\n",
    "Для выполнения заданий переопределите функции RECORDREADER, MAP, REDUCE. Для модели распределённой системы может потребоваться переопределение функций PARTITION и COMBINER."
   ]
  },
  {
   "cell_type": "markdown",
   "metadata": {
    "id": "cfvAeZm3S8S8"
   },
   "source": [
    "### Максимальное значение ряда\n",
    "\n",
    "Разработайте MapReduce алгоритм, который находит максимальное число входного списка чисел."
   ]
  },
  {
   "metadata": {
    "ExecuteTime": {
     "end_time": "2025-02-27T17:58:57.543272Z",
     "start_time": "2025-02-27T17:58:57.529757Z"
    }
   },
   "cell_type": "code",
   "source": [
    "import random\n",
    "from itertools import groupby"
   ],
   "outputs": [],
   "execution_count": 160
  },
  {
   "metadata": {
    "ExecuteTime": {
     "end_time": "2025-02-27T17:58:57.573314Z",
     "start_time": "2025-02-27T17:58:57.559799Z"
    }
   },
   "cell_type": "code",
   "source": [
    "def flatten(nested_iterable):\n",
    "  for iterable in nested_iterable:\n",
    "    for element in iterable:\n",
    "      yield element\n",
    "\n",
    "def groupbykey(iterable):\n",
    "  t = {}\n",
    "  for (k2, v2) in iterable:\n",
    "    t[k2] = t.get(k2, []) + [v2]\n",
    "  return t.items()\n",
    "\n",
    "def MapReduce(RECORDREADER, MAP, REDUCE):\n",
    "  return flatten(map(lambda x: REDUCE(*x), groupbykey(flatten(map(lambda x: MAP(*x), RECORDREADER)))))"
   ],
   "outputs": [],
   "execution_count": 161
  },
  {
   "cell_type": "code",
   "metadata": {
    "id": "3GRA1JR-Tkbg",
    "ExecuteTime": {
     "end_time": "2025-02-27T17:58:57.603861Z",
     "start_time": "2025-02-27T17:58:57.590335Z"
    }
   },
   "source": [
    "def MAP(key, value):\n",
    "    yield key, value\n",
    "\n",
    "def REDUCE(key, values):\n",
    "    yield max(values)\n",
    "\n",
    "def RECORDREADER(count):\n",
    "    return ((None, random.randint(0, 100)) for _ in range(count))\n",
    "\n",
    "array = list(RECORDREADER(20))\n",
    "print(\"Input Data:\", [v for _, v in array])\n",
    "\n",
    "result = list(MapReduce(array, MAP, REDUCE))\n",
    "print(\"Max Value:\", result[0])"
   ],
   "outputs": [
    {
     "name": "stdout",
     "output_type": "stream",
     "text": [
      "Input Data: [54, 86, 81, 51, 13, 87, 78, 48, 86, 93, 76, 48, 32, 37, 25, 37, 68, 83, 47, 8]\n",
      "Max Value: 93\n"
     ]
    }
   ],
   "execution_count": 162
  },
  {
   "cell_type": "markdown",
   "metadata": {
    "id": "k86bXnqZTk-U"
   },
   "source": [
    "### Арифметическое среднее\n",
    "\n",
    "Разработайте MapReduce алгоритм, который находит арифметическое среднее.\n",
    "\n",
    "$$\\overline{X} = \\frac{1}{n}\\sum_{i=0}^{n} x_i$$\n"
   ]
  },
  {
   "cell_type": "code",
   "metadata": {
    "id": "MPoY5pkfUNZf",
    "ExecuteTime": {
     "end_time": "2025-02-27T17:58:57.635040Z",
     "start_time": "2025-02-27T17:58:57.621531Z"
    }
   },
   "source": [
    "def MAP(key, value):\n",
    "  yield None, value\n",
    "\n",
    "def REDUCE(key, values):\n",
    "  total = sum(values)\n",
    "  count = len(values)\n",
    "  yield total / count\n",
    "\n",
    "def RECORDREADER(count):\n",
    "    return ((None, random.randint(0, 100)) for _ in range(count))\n",
    "\n",
    "array = list(RECORDREADER(100))\n",
    "print(\"Input Data:\", [v for _, v in array])\n",
    "\n",
    "result = list(MapReduce(array, MAP, REDUCE))\n",
    "print(\"Average value:\", result[0])"
   ],
   "outputs": [
    {
     "name": "stdout",
     "output_type": "stream",
     "text": [
      "Input Data: [95, 66, 6, 42, 40, 23, 59, 67, 56, 60, 11, 97, 21, 69, 73, 69, 25, 98, 34, 24, 97, 90, 77, 13, 29, 44, 6, 91, 91, 83, 13, 23, 42, 70, 58, 20, 40, 49, 14, 50, 76, 0, 68, 62, 68, 0, 0, 50, 64, 15, 57, 25, 48, 66, 48, 81, 64, 3, 3, 17, 93, 91, 69, 48, 17, 2, 50, 94, 85, 58, 72, 62, 49, 36, 74, 59, 61, 52, 22, 75, 32, 25, 92, 37, 15, 15, 10, 68, 54, 8, 37, 57, 83, 31, 61, 31, 53, 87, 7, 83]\n",
      "Average value: 49.05\n"
     ]
    }
   ],
   "execution_count": 163
  },
  {
   "cell_type": "markdown",
   "metadata": {
    "id": "xanzszhsIlLe"
   },
   "source": [
    "### GroupByKey на основе сортировки\n",
    "\n",
    "Реализуйте groupByKey на основе сортировки, проверьте его работу на примерах"
   ]
  },
  {
   "cell_type": "code",
   "metadata": {
    "id": "hQPn3USsIkEC",
    "ExecuteTime": {
     "end_time": "2025-02-27T17:58:57.680771Z",
     "start_time": "2025-02-27T17:58:57.666744Z"
    }
   },
   "source": [
    "import random\n",
    "from itertools import groupby\n",
    "\n",
    "def groupByKey_sorted(iterable):\n",
    "    sorted_iterable = sorted(iterable, key=lambda x: x[0])\n",
    "    return ((key, [v for _, v in group]) for key, group in groupby(sorted_iterable, key=lambda x: x[0]))\n",
    "\n",
    "def MAP(key, value):\n",
    "    yield 1, value\n",
    "\n",
    "def REDUCE(key, values):\n",
    "    total = sum(values)\n",
    "    count = len(values)\n",
    "    yield total / count\n",
    "\n",
    "def RECORDREADER(count):\n",
    "    return ((1, random.randint(0, 100)) for _ in range(count))\n",
    "\n",
    "def MapReduce(RECORDREADER, MAP, REDUCE):\n",
    "    return flatten(map(lambda x: REDUCE(*x), groupByKey_sorted(flatten(map(lambda x: MAP(*x), RECORDREADER)))))\n",
    "\n",
    "array = list(RECORDREADER(100))\n",
    "print(\"Input Data:\", array)\n",
    "\n",
    "result = list(MapReduce(array, MAP, REDUCE))\n",
    "print(\"Average value:\", result[0])"
   ],
   "outputs": [
    {
     "name": "stdout",
     "output_type": "stream",
     "text": [
      "Input Data: [(1, 32), (1, 1), (1, 13), (1, 11), (1, 33), (1, 72), (1, 45), (1, 55), (1, 68), (1, 90), (1, 98), (1, 8), (1, 13), (1, 17), (1, 36), (1, 59), (1, 90), (1, 80), (1, 89), (1, 48), (1, 5), (1, 94), (1, 88), (1, 28), (1, 18), (1, 0), (1, 6), (1, 13), (1, 2), (1, 9), (1, 91), (1, 89), (1, 22), (1, 77), (1, 93), (1, 8), (1, 9), (1, 89), (1, 77), (1, 40), (1, 66), (1, 98), (1, 36), (1, 26), (1, 57), (1, 17), (1, 10), (1, 10), (1, 94), (1, 60), (1, 68), (1, 68), (1, 18), (1, 9), (1, 38), (1, 89), (1, 88), (1, 24), (1, 51), (1, 24), (1, 33), (1, 23), (1, 79), (1, 73), (1, 40), (1, 63), (1, 36), (1, 63), (1, 72), (1, 100), (1, 20), (1, 54), (1, 64), (1, 2), (1, 10), (1, 61), (1, 50), (1, 4), (1, 21), (1, 51), (1, 26), (1, 6), (1, 96), (1, 69), (1, 45), (1, 76), (1, 1), (1, 90), (1, 24), (1, 75), (1, 72), (1, 69), (1, 99), (1, 82), (1, 38), (1, 19), (1, 47), (1, 98), (1, 93), (1, 70)]\n",
      "Average value: 48.81\n"
     ]
    }
   ],
   "execution_count": 164
  },
  {
   "cell_type": "markdown",
   "metadata": {
    "id": "5SgEjCZyGnu6"
   },
   "source": [
    "### Drop duplicates (set construction, unique elements, distinct)\n",
    "\n",
    "Реализуйте распределённую операцию исключения дубликатов"
   ]
  },
  {
   "cell_type": "code",
   "metadata": {
    "id": "okjbyApjGhMt",
    "ExecuteTime": {
     "end_time": "2025-02-27T17:58:57.711863Z",
     "start_time": "2025-02-27T17:58:57.687286Z"
    }
   },
   "source": [
    "d1 = \"\"\"\n",
    "it is what it is\n",
    "it is what it is\n",
    "it is what it is\"\"\"\n",
    "d2 = \"\"\"\n",
    "what is it\n",
    "what is it\"\"\"\n",
    "d3 = \"\"\"\n",
    "it is a dog\"\"\"\n",
    "\n",
    "documents = [d1, d2, d3, d1, d2, d3]\n",
    "\n",
    "maps = 3\n",
    "reducers = 2\n",
    "\n",
    "def groupbykey_distributed(map_partitions, PARTITIONER):\n",
    "    global reducers\n",
    "    partitions = [dict() for _ in range(reducers)]\n",
    "    for map_partition in map_partitions:\n",
    "        for key, value in map_partition:\n",
    "            p = partitions[PARTITIONER(key)]\n",
    "            p.setdefault(key, []).append(value)\n",
    "    return [(partition_id, sorted(partition.items(), key=lambda x: x[0])) for (partition_id, partition) in enumerate(partitions)]\n",
    "\n",
    "def PARTITIONER(obj):\n",
    "    global reducers\n",
    "    return hash(obj) % reducers\n",
    "\n",
    "def MapReduceDistributed(INPUTFORMAT, MAP, REDUCE, PARTITIONER=PARTITIONER, COMBINER=None):\n",
    "    map_partitions = map(lambda record_reader: flatten(map(lambda k1v1: MAP(*k1v1), record_reader)), INPUTFORMAT())\n",
    "    if COMBINER is not None:\n",
    "        map_partitions = map(lambda map_partition: flatten(map(lambda k2v2: COMBINER(*k2v2), groupbykey(map_partition))), map_partitions)\n",
    "    reduce_partitions = groupbykey_distributed(map_partitions, PARTITIONER)\n",
    "    reduce_outputs = map(lambda reduce_partition: (reduce_partition[0], flatten(map(lambda reduce_input_group: REDUCE(*reduce_input_group),\n",
    "                                                                                    reduce_partition[1]))), reduce_partitions)\n",
    "    total_values_sent = sum([len(vs) for (k, vs) in flatten([partition for (partition_id, partition) in reduce_partitions])])\n",
    "    print(f\"{total_values_sent} key-value pairs were sent over a network.\")\n",
    "    return reduce_outputs\n",
    "\n",
    "def INPUTFORMAT():\n",
    "    global maps\n",
    "    def RECORDREADER(split):\n",
    "        for (docid, document) in enumerate(split):\n",
    "            for (lineid, line) in enumerate(document.split('\\n')):\n",
    "                yield (\"{}:{}\".format(docid, lineid), line)\n",
    "    split_size = int(np.ceil(len(documents) / maps))\n",
    "    for i in range(0, len(documents), split_size):\n",
    "        yield RECORDREADER(documents[i:i + split_size])\n",
    "\n",
    "def MAP(docId: str, line: str):\n",
    "    for word in line.split(\" \"):\n",
    "        yield (word, word)\n",
    "\n",
    "def REDUCE(key: str, value):\n",
    "    yield key\n",
    "\n",
    "partitioned_output = MapReduceDistributed(INPUTFORMAT, MAP, REDUCE, COMBINER=None)\n",
    "partitioned_output = [(partition_id, list(partition)) for (partition_id, partition) in partitioned_output]\n",
    "partitioned_output"
   ],
   "outputs": [
    {
     "name": "stdout",
     "output_type": "stream",
     "text": [
      "56 key-value pairs were sent over a network.\n"
     ]
    },
    {
     "data": {
      "text/plain": [
       "[(0, ['', 'a', 'is', 'it']), (1, ['dog', 'what'])]"
      ]
     },
     "execution_count": 165,
     "metadata": {},
     "output_type": "execute_result"
    }
   ],
   "execution_count": 165
  },
  {
   "cell_type": "markdown",
   "metadata": {
    "id": "e7sRGoTXuJze"
   },
   "source": [
    "#Операторы реляционной алгебры\n",
    "### Selection (Выборка)\n",
    "\n",
    "**The Map Function**: Для  каждого кортежа $t \\in R$ вычисляется истинность предиката $C$. В случае истины создаётся пара ключ-значение $(t, t)$. В паре ключ и значение одинаковы, равны $t$.\n",
    "\n",
    "**The Reduce Function:** Роль функции Reduce выполняет функция идентичности, которая возвращает то же значение, что получила на вход.\n",
    "\n"
   ]
  },
  {
   "metadata": {
    "ExecuteTime": {
     "end_time": "2025-02-27T17:58:57.742383Z",
     "start_time": "2025-02-27T17:58:57.727869Z"
    }
   },
   "cell_type": "code",
   "source": [
    "def MAP(el_list):\n",
    "    return [(t, [t]) for t in el_list if C(t)]\n",
    "\n",
    "def REDUCE(mapped_items):\n",
    "    return [value for sublist in mapped_items for value in sublist]\n",
    "\n",
    "def C(t):\n",
    "    return t[0] % 2 == 0\n",
    "\n",
    "def RECORDREADER(count):\n",
    "    return [(random.randint(0, 100), random.randint(0, 100), random.randint(0, 100)) for _ in range(count)]\n",
    "\n",
    "record = RECORDREADER(5)  # Генерация данных\n",
    "print(\"Input data:\", record)\n",
    "\n",
    "part_size = 5\n",
    "record_partitioned = [record[i:i + part_size] for i in range(0, len(record), part_size)]\n",
    "print(\"Partitioned data:\", record_partitioned)\n",
    "\n",
    "mapped_results = list(map(MAP, record_partitioned))\n",
    "reduced_result = REDUCE(mapped_results)\n",
    "\n",
    "print(\"Filtered result:\", reduced_result)\n"
   ],
   "outputs": [
    {
     "name": "stdout",
     "output_type": "stream",
     "text": [
      "Input data: [(99, 80, 73), (64, 31, 74), (80, 20, 40), (65, 50, 86), (42, 54, 26)]\n",
      "Partitioned data: [[(99, 80, 73), (64, 31, 74), (80, 20, 40), (65, 50, 86), (42, 54, 26)]]\n",
      "Filtered result: [((64, 31, 74), [(64, 31, 74)]), ((80, 20, 40), [(80, 20, 40)]), ((42, 54, 26), [(42, 54, 26)])]\n"
     ]
    }
   ],
   "execution_count": 166
  },
  {
   "cell_type": "markdown",
   "metadata": {
    "id": "w27Ca-_Ku85V"
   },
   "source": [
    "### Projection (Проекция)\n",
    "\n",
    "Проекция на множество атрибутов $S$.\n",
    "\n",
    "**The Map Function:** Для каждого кортежа $t \\in R$ создайте кортеж $t′$, исключая  из $t$ те значения, атрибуты которых не принадлежат  $S$. Верните пару $(t′, t′)$.\n",
    "\n",
    "**The Reduce Function:** Для каждого ключа $t′$, созданного любой Map задачей, вы получаете одну или несколько пар $(t′, t′)$. Reduce функция преобразует $(t′, [t′, t′, . . . , t′])$ в $(t′, t′)$, так, что для ключа $t′$ возвращается одна пара  $(t′, t′)$."
   ]
  },
  {
   "cell_type": "code",
   "metadata": {
    "id": "BEvuY4GqvhS6",
    "ExecuteTime": {
     "end_time": "2025-02-27T17:58:57.772383Z",
     "start_time": "2025-02-27T17:58:57.759382Z"
    }
   },
   "source": [
    "from typing import Iterator, NamedTuple\n",
    "\n",
    "S = {25, 90, 69}\n",
    "\n",
    "def MAP(t):\n",
    "    filtered = tuple(el for el in t if el in S)\n",
    "    return (filtered, filtered)\n",
    "\n",
    "def REDUCE(key, values: Iterator[NamedTuple]):\n",
    "    return key, key\n",
    "\n",
    "def RECORDREADER(count):\n",
    "    return [(random.randint(0, 100), random.randint(0, 100), random.randint(0, 100)) for _ in range(count)]\n",
    "\n",
    "def group_by_key(iterable):\n",
    "    t = {}\n",
    "    for (k2, v2) in iterable:\n",
    "        t[k2] = t.get(k2, []) + [v2]\n",
    "    return t.items()\n",
    "\n",
    "record = RECORDREADER(5)\n",
    "print(\"Input records:\", record)\n",
    "\n",
    "map_output = list(map(MAP, RECORDREADER(100)))\n",
    "print(\"MAP output:\", map_output)\n",
    "\n",
    "shuffle_output = group_by_key(map(MAP, RECORDREADER(100)))\n",
    "\n",
    "reduce_output = list(map(lambda x: REDUCE(*x)[0], list(shuffle_output)))\n",
    "print(\"Reduce output:\", reduce_output)"
   ],
   "outputs": [
    {
     "name": "stdout",
     "output_type": "stream",
     "text": [
      "Input records: [(93, 87, 91), (97, 30, 78), (56, 95, 39), (9, 92, 95), (88, 89, 55)]\n",
      "MAP output: [((), ()), ((), ()), ((), ()), ((), ()), ((), ()), ((), ()), ((), ()), ((), ()), ((), ()), ((), ()), ((), ()), ((), ()), ((), ()), ((), ()), ((), ()), ((), ()), ((), ()), ((), ()), ((25,), (25,)), ((90,), (90,)), ((), ()), ((), ()), ((), ()), ((90,), (90,)), ((), ()), ((), ()), ((), ()), ((), ()), ((), ()), ((), ()), ((), ()), ((), ()), ((), ()), ((), ()), ((), ()), ((), ()), ((69,), (69,)), ((), ()), ((), ()), ((69,), (69,)), ((), ()), ((), ()), ((), ()), ((), ()), ((90,), (90,)), ((), ()), ((), ()), ((), ()), ((), ()), ((), ()), ((), ()), ((), ()), ((), ()), ((), ()), ((), ()), ((), ()), ((), ()), ((69,), (69,)), ((), ()), ((), ()), ((), ()), ((), ()), ((), ()), ((), ()), ((), ()), ((), ()), ((), ()), ((), ()), ((), ()), ((), ()), ((), ()), ((), ()), ((), ()), ((), ()), ((69,), (69,)), ((), ()), ((), ()), ((), ()), ((), ()), ((), ()), ((), ()), ((), ()), ((), ()), ((), ()), ((), ()), ((), ()), ((), ()), ((), ()), ((), ()), ((), ()), ((), ()), ((), ()), ((), ()), ((), ()), ((90,), (90,)), ((), ()), ((), ()), ((), ()), ((), ()), ((), ())]\n",
      "Reduce output: [(), (90,), (25,), (69,)]\n"
     ]
    }
   ],
   "execution_count": 167
  },
  {
   "cell_type": "markdown",
   "metadata": {
    "id": "7gau6lKXvn2R"
   },
   "source": [
    "### Union (Объединение)\n",
    "\n",
    "**The Map Function:** Превратите каждый входной кортеж $t$ в пару ключ-значение $(t, t)$.\n",
    "\n",
    "**The Reduce Function:** С каждым ключом $t$ будет ассоциировано одно или два значений. В обоих случаях создайте $(t, t)$ в качестве выходного значения."
   ]
  },
  {
   "cell_type": "code",
   "metadata": {
    "id": "Sns7a5agv3nw",
    "ExecuteTime": {
     "end_time": "2025-02-27T17:58:57.802733Z",
     "start_time": "2025-02-27T17:58:57.788392Z"
    }
   },
   "source": [
    "import random\n",
    "from collections import defaultdict\n",
    "\n",
    "def MAP(t):\n",
    "    return t, t\n",
    "\n",
    "def REDUCE(key, values):\n",
    "    return key, key\n",
    "\n",
    "def RECORDREADER(count):\n",
    "    return [(random.randint(0, 100), random.randint(0, 100), random.randint(0, 100)) for _ in range(count)]\n",
    "\n",
    "record = RECORDREADER(100)\n",
    "print(\"Input records:\", record)\n",
    "\n",
    "map_output = map(MAP, record)\n",
    "print(\"MAP output:\", list(map_output))\n",
    "\n",
    "shuffle_output = group_by_key(map(MAP, record))\n",
    "print(\"Shuffle output:\", list(shuffle_output))\n",
    "\n",
    "reduce_output = [REDUCE(k, v) for k, v in shuffle_output]\n",
    "print(\"Reduce output:\", reduce_output)"
   ],
   "outputs": [
    {
     "name": "stdout",
     "output_type": "stream",
     "text": [
      "Input records: [(12, 7, 92), (72, 31, 8), (7, 74, 19), (7, 43, 100), (66, 64, 37), (5, 88, 64), (80, 31, 61), (27, 37, 55), (99, 87, 67), (97, 46, 90), (20, 51, 30), (51, 0, 94), (49, 9, 11), (54, 29, 6), (74, 6, 65), (72, 60, 34), (99, 44, 34), (97, 7, 75), (5, 78, 57), (44, 100, 65), (79, 55, 44), (99, 88, 77), (64, 13, 39), (25, 48, 8), (26, 89, 25), (51, 71, 62), (9, 100, 55), (23, 64, 66), (32, 55, 12), (67, 58, 78), (100, 16, 67), (53, 78, 32), (86, 65, 44), (57, 20, 100), (4, 83, 58), (7, 35, 23), (27, 15, 7), (78, 45, 22), (45, 50, 21), (44, 99, 8), (13, 53, 21), (95, 1, 95), (80, 1, 98), (79, 97, 35), (2, 38, 19), (9, 51, 70), (15, 32, 17), (4, 49, 50), (28, 47, 79), (64, 47, 23), (26, 12, 38), (58, 11, 52), (91, 84, 66), (81, 76, 42), (77, 12, 9), (20, 27, 55), (47, 36, 62), (87, 32, 99), (6, 10, 82), (86, 80, 76), (22, 52, 87), (4, 18, 72), (71, 29, 74), (67, 97, 16), (38, 69, 95), (75, 42, 22), (64, 62, 13), (68, 32, 85), (93, 52, 16), (27, 49, 70), (37, 14, 6), (75, 32, 35), (19, 59, 85), (33, 16, 100), (26, 37, 39), (27, 24, 56), (42, 4, 23), (1, 65, 3), (93, 85, 19), (60, 36, 0), (37, 21, 64), (70, 24, 10), (94, 59, 39), (42, 77, 7), (90, 90, 58), (97, 60, 31), (35, 64, 39), (48, 26, 38), (91, 18, 56), (78, 30, 22), (48, 48, 99), (42, 87, 95), (32, 34, 78), (91, 39, 33), (24, 95, 68), (83, 51, 47), (94, 95, 55), (95, 66, 38), (69, 40, 15), (33, 74, 57)]\n",
      "MAP output: [((12, 7, 92), (12, 7, 92)), ((72, 31, 8), (72, 31, 8)), ((7, 74, 19), (7, 74, 19)), ((7, 43, 100), (7, 43, 100)), ((66, 64, 37), (66, 64, 37)), ((5, 88, 64), (5, 88, 64)), ((80, 31, 61), (80, 31, 61)), ((27, 37, 55), (27, 37, 55)), ((99, 87, 67), (99, 87, 67)), ((97, 46, 90), (97, 46, 90)), ((20, 51, 30), (20, 51, 30)), ((51, 0, 94), (51, 0, 94)), ((49, 9, 11), (49, 9, 11)), ((54, 29, 6), (54, 29, 6)), ((74, 6, 65), (74, 6, 65)), ((72, 60, 34), (72, 60, 34)), ((99, 44, 34), (99, 44, 34)), ((97, 7, 75), (97, 7, 75)), ((5, 78, 57), (5, 78, 57)), ((44, 100, 65), (44, 100, 65)), ((79, 55, 44), (79, 55, 44)), ((99, 88, 77), (99, 88, 77)), ((64, 13, 39), (64, 13, 39)), ((25, 48, 8), (25, 48, 8)), ((26, 89, 25), (26, 89, 25)), ((51, 71, 62), (51, 71, 62)), ((9, 100, 55), (9, 100, 55)), ((23, 64, 66), (23, 64, 66)), ((32, 55, 12), (32, 55, 12)), ((67, 58, 78), (67, 58, 78)), ((100, 16, 67), (100, 16, 67)), ((53, 78, 32), (53, 78, 32)), ((86, 65, 44), (86, 65, 44)), ((57, 20, 100), (57, 20, 100)), ((4, 83, 58), (4, 83, 58)), ((7, 35, 23), (7, 35, 23)), ((27, 15, 7), (27, 15, 7)), ((78, 45, 22), (78, 45, 22)), ((45, 50, 21), (45, 50, 21)), ((44, 99, 8), (44, 99, 8)), ((13, 53, 21), (13, 53, 21)), ((95, 1, 95), (95, 1, 95)), ((80, 1, 98), (80, 1, 98)), ((79, 97, 35), (79, 97, 35)), ((2, 38, 19), (2, 38, 19)), ((9, 51, 70), (9, 51, 70)), ((15, 32, 17), (15, 32, 17)), ((4, 49, 50), (4, 49, 50)), ((28, 47, 79), (28, 47, 79)), ((64, 47, 23), (64, 47, 23)), ((26, 12, 38), (26, 12, 38)), ((58, 11, 52), (58, 11, 52)), ((91, 84, 66), (91, 84, 66)), ((81, 76, 42), (81, 76, 42)), ((77, 12, 9), (77, 12, 9)), ((20, 27, 55), (20, 27, 55)), ((47, 36, 62), (47, 36, 62)), ((87, 32, 99), (87, 32, 99)), ((6, 10, 82), (6, 10, 82)), ((86, 80, 76), (86, 80, 76)), ((22, 52, 87), (22, 52, 87)), ((4, 18, 72), (4, 18, 72)), ((71, 29, 74), (71, 29, 74)), ((67, 97, 16), (67, 97, 16)), ((38, 69, 95), (38, 69, 95)), ((75, 42, 22), (75, 42, 22)), ((64, 62, 13), (64, 62, 13)), ((68, 32, 85), (68, 32, 85)), ((93, 52, 16), (93, 52, 16)), ((27, 49, 70), (27, 49, 70)), ((37, 14, 6), (37, 14, 6)), ((75, 32, 35), (75, 32, 35)), ((19, 59, 85), (19, 59, 85)), ((33, 16, 100), (33, 16, 100)), ((26, 37, 39), (26, 37, 39)), ((27, 24, 56), (27, 24, 56)), ((42, 4, 23), (42, 4, 23)), ((1, 65, 3), (1, 65, 3)), ((93, 85, 19), (93, 85, 19)), ((60, 36, 0), (60, 36, 0)), ((37, 21, 64), (37, 21, 64)), ((70, 24, 10), (70, 24, 10)), ((94, 59, 39), (94, 59, 39)), ((42, 77, 7), (42, 77, 7)), ((90, 90, 58), (90, 90, 58)), ((97, 60, 31), (97, 60, 31)), ((35, 64, 39), (35, 64, 39)), ((48, 26, 38), (48, 26, 38)), ((91, 18, 56), (91, 18, 56)), ((78, 30, 22), (78, 30, 22)), ((48, 48, 99), (48, 48, 99)), ((42, 87, 95), (42, 87, 95)), ((32, 34, 78), (32, 34, 78)), ((91, 39, 33), (91, 39, 33)), ((24, 95, 68), (24, 95, 68)), ((83, 51, 47), (83, 51, 47)), ((94, 95, 55), (94, 95, 55)), ((95, 66, 38), (95, 66, 38)), ((69, 40, 15), (69, 40, 15)), ((33, 74, 57), (33, 74, 57))]\n",
      "Shuffle output: [((12, 7, 92), [(12, 7, 92)]), ((72, 31, 8), [(72, 31, 8)]), ((7, 74, 19), [(7, 74, 19)]), ((7, 43, 100), [(7, 43, 100)]), ((66, 64, 37), [(66, 64, 37)]), ((5, 88, 64), [(5, 88, 64)]), ((80, 31, 61), [(80, 31, 61)]), ((27, 37, 55), [(27, 37, 55)]), ((99, 87, 67), [(99, 87, 67)]), ((97, 46, 90), [(97, 46, 90)]), ((20, 51, 30), [(20, 51, 30)]), ((51, 0, 94), [(51, 0, 94)]), ((49, 9, 11), [(49, 9, 11)]), ((54, 29, 6), [(54, 29, 6)]), ((74, 6, 65), [(74, 6, 65)]), ((72, 60, 34), [(72, 60, 34)]), ((99, 44, 34), [(99, 44, 34)]), ((97, 7, 75), [(97, 7, 75)]), ((5, 78, 57), [(5, 78, 57)]), ((44, 100, 65), [(44, 100, 65)]), ((79, 55, 44), [(79, 55, 44)]), ((99, 88, 77), [(99, 88, 77)]), ((64, 13, 39), [(64, 13, 39)]), ((25, 48, 8), [(25, 48, 8)]), ((26, 89, 25), [(26, 89, 25)]), ((51, 71, 62), [(51, 71, 62)]), ((9, 100, 55), [(9, 100, 55)]), ((23, 64, 66), [(23, 64, 66)]), ((32, 55, 12), [(32, 55, 12)]), ((67, 58, 78), [(67, 58, 78)]), ((100, 16, 67), [(100, 16, 67)]), ((53, 78, 32), [(53, 78, 32)]), ((86, 65, 44), [(86, 65, 44)]), ((57, 20, 100), [(57, 20, 100)]), ((4, 83, 58), [(4, 83, 58)]), ((7, 35, 23), [(7, 35, 23)]), ((27, 15, 7), [(27, 15, 7)]), ((78, 45, 22), [(78, 45, 22)]), ((45, 50, 21), [(45, 50, 21)]), ((44, 99, 8), [(44, 99, 8)]), ((13, 53, 21), [(13, 53, 21)]), ((95, 1, 95), [(95, 1, 95)]), ((80, 1, 98), [(80, 1, 98)]), ((79, 97, 35), [(79, 97, 35)]), ((2, 38, 19), [(2, 38, 19)]), ((9, 51, 70), [(9, 51, 70)]), ((15, 32, 17), [(15, 32, 17)]), ((4, 49, 50), [(4, 49, 50)]), ((28, 47, 79), [(28, 47, 79)]), ((64, 47, 23), [(64, 47, 23)]), ((26, 12, 38), [(26, 12, 38)]), ((58, 11, 52), [(58, 11, 52)]), ((91, 84, 66), [(91, 84, 66)]), ((81, 76, 42), [(81, 76, 42)]), ((77, 12, 9), [(77, 12, 9)]), ((20, 27, 55), [(20, 27, 55)]), ((47, 36, 62), [(47, 36, 62)]), ((87, 32, 99), [(87, 32, 99)]), ((6, 10, 82), [(6, 10, 82)]), ((86, 80, 76), [(86, 80, 76)]), ((22, 52, 87), [(22, 52, 87)]), ((4, 18, 72), [(4, 18, 72)]), ((71, 29, 74), [(71, 29, 74)]), ((67, 97, 16), [(67, 97, 16)]), ((38, 69, 95), [(38, 69, 95)]), ((75, 42, 22), [(75, 42, 22)]), ((64, 62, 13), [(64, 62, 13)]), ((68, 32, 85), [(68, 32, 85)]), ((93, 52, 16), [(93, 52, 16)]), ((27, 49, 70), [(27, 49, 70)]), ((37, 14, 6), [(37, 14, 6)]), ((75, 32, 35), [(75, 32, 35)]), ((19, 59, 85), [(19, 59, 85)]), ((33, 16, 100), [(33, 16, 100)]), ((26, 37, 39), [(26, 37, 39)]), ((27, 24, 56), [(27, 24, 56)]), ((42, 4, 23), [(42, 4, 23)]), ((1, 65, 3), [(1, 65, 3)]), ((93, 85, 19), [(93, 85, 19)]), ((60, 36, 0), [(60, 36, 0)]), ((37, 21, 64), [(37, 21, 64)]), ((70, 24, 10), [(70, 24, 10)]), ((94, 59, 39), [(94, 59, 39)]), ((42, 77, 7), [(42, 77, 7)]), ((90, 90, 58), [(90, 90, 58)]), ((97, 60, 31), [(97, 60, 31)]), ((35, 64, 39), [(35, 64, 39)]), ((48, 26, 38), [(48, 26, 38)]), ((91, 18, 56), [(91, 18, 56)]), ((78, 30, 22), [(78, 30, 22)]), ((48, 48, 99), [(48, 48, 99)]), ((42, 87, 95), [(42, 87, 95)]), ((32, 34, 78), [(32, 34, 78)]), ((91, 39, 33), [(91, 39, 33)]), ((24, 95, 68), [(24, 95, 68)]), ((83, 51, 47), [(83, 51, 47)]), ((94, 95, 55), [(94, 95, 55)]), ((95, 66, 38), [(95, 66, 38)]), ((69, 40, 15), [(69, 40, 15)]), ((33, 74, 57), [(33, 74, 57)])]\n",
      "Reduce output: [((12, 7, 92), (12, 7, 92)), ((72, 31, 8), (72, 31, 8)), ((7, 74, 19), (7, 74, 19)), ((7, 43, 100), (7, 43, 100)), ((66, 64, 37), (66, 64, 37)), ((5, 88, 64), (5, 88, 64)), ((80, 31, 61), (80, 31, 61)), ((27, 37, 55), (27, 37, 55)), ((99, 87, 67), (99, 87, 67)), ((97, 46, 90), (97, 46, 90)), ((20, 51, 30), (20, 51, 30)), ((51, 0, 94), (51, 0, 94)), ((49, 9, 11), (49, 9, 11)), ((54, 29, 6), (54, 29, 6)), ((74, 6, 65), (74, 6, 65)), ((72, 60, 34), (72, 60, 34)), ((99, 44, 34), (99, 44, 34)), ((97, 7, 75), (97, 7, 75)), ((5, 78, 57), (5, 78, 57)), ((44, 100, 65), (44, 100, 65)), ((79, 55, 44), (79, 55, 44)), ((99, 88, 77), (99, 88, 77)), ((64, 13, 39), (64, 13, 39)), ((25, 48, 8), (25, 48, 8)), ((26, 89, 25), (26, 89, 25)), ((51, 71, 62), (51, 71, 62)), ((9, 100, 55), (9, 100, 55)), ((23, 64, 66), (23, 64, 66)), ((32, 55, 12), (32, 55, 12)), ((67, 58, 78), (67, 58, 78)), ((100, 16, 67), (100, 16, 67)), ((53, 78, 32), (53, 78, 32)), ((86, 65, 44), (86, 65, 44)), ((57, 20, 100), (57, 20, 100)), ((4, 83, 58), (4, 83, 58)), ((7, 35, 23), (7, 35, 23)), ((27, 15, 7), (27, 15, 7)), ((78, 45, 22), (78, 45, 22)), ((45, 50, 21), (45, 50, 21)), ((44, 99, 8), (44, 99, 8)), ((13, 53, 21), (13, 53, 21)), ((95, 1, 95), (95, 1, 95)), ((80, 1, 98), (80, 1, 98)), ((79, 97, 35), (79, 97, 35)), ((2, 38, 19), (2, 38, 19)), ((9, 51, 70), (9, 51, 70)), ((15, 32, 17), (15, 32, 17)), ((4, 49, 50), (4, 49, 50)), ((28, 47, 79), (28, 47, 79)), ((64, 47, 23), (64, 47, 23)), ((26, 12, 38), (26, 12, 38)), ((58, 11, 52), (58, 11, 52)), ((91, 84, 66), (91, 84, 66)), ((81, 76, 42), (81, 76, 42)), ((77, 12, 9), (77, 12, 9)), ((20, 27, 55), (20, 27, 55)), ((47, 36, 62), (47, 36, 62)), ((87, 32, 99), (87, 32, 99)), ((6, 10, 82), (6, 10, 82)), ((86, 80, 76), (86, 80, 76)), ((22, 52, 87), (22, 52, 87)), ((4, 18, 72), (4, 18, 72)), ((71, 29, 74), (71, 29, 74)), ((67, 97, 16), (67, 97, 16)), ((38, 69, 95), (38, 69, 95)), ((75, 42, 22), (75, 42, 22)), ((64, 62, 13), (64, 62, 13)), ((68, 32, 85), (68, 32, 85)), ((93, 52, 16), (93, 52, 16)), ((27, 49, 70), (27, 49, 70)), ((37, 14, 6), (37, 14, 6)), ((75, 32, 35), (75, 32, 35)), ((19, 59, 85), (19, 59, 85)), ((33, 16, 100), (33, 16, 100)), ((26, 37, 39), (26, 37, 39)), ((27, 24, 56), (27, 24, 56)), ((42, 4, 23), (42, 4, 23)), ((1, 65, 3), (1, 65, 3)), ((93, 85, 19), (93, 85, 19)), ((60, 36, 0), (60, 36, 0)), ((37, 21, 64), (37, 21, 64)), ((70, 24, 10), (70, 24, 10)), ((94, 59, 39), (94, 59, 39)), ((42, 77, 7), (42, 77, 7)), ((90, 90, 58), (90, 90, 58)), ((97, 60, 31), (97, 60, 31)), ((35, 64, 39), (35, 64, 39)), ((48, 26, 38), (48, 26, 38)), ((91, 18, 56), (91, 18, 56)), ((78, 30, 22), (78, 30, 22)), ((48, 48, 99), (48, 48, 99)), ((42, 87, 95), (42, 87, 95)), ((32, 34, 78), (32, 34, 78)), ((91, 39, 33), (91, 39, 33)), ((24, 95, 68), (24, 95, 68)), ((83, 51, 47), (83, 51, 47)), ((94, 95, 55), (94, 95, 55)), ((95, 66, 38), (95, 66, 38)), ((69, 40, 15), (69, 40, 15)), ((33, 74, 57), (33, 74, 57))]\n"
     ]
    }
   ],
   "execution_count": 168
  },
  {
   "cell_type": "markdown",
   "metadata": {
    "id": "dQ8TuEbjv4J8"
   },
   "source": [
    "### Intersection (Пересечение)\n",
    "\n",
    "**The Map Function:** Превратите каждый кортеж $t$ в пары ключ-значение $(t, t)$.\n",
    "\n",
    "**The Reduce Function:** Если для ключа $t$ есть список из двух элементов $[t, t]$ $-$ создайте пару $(t, t)$. Иначе, ничего не создавайте."
   ]
  },
  {
   "cell_type": "code",
   "metadata": {
    "id": "XKlBZh4IwERR",
    "ExecuteTime": {
     "end_time": "2025-02-27T17:58:57.832731Z",
     "start_time": "2025-02-27T17:58:57.818736Z"
    }
   },
   "source": [
    "def MAP(t):\n",
    "    return t, t\n",
    "\n",
    "def REDUCE(key, values):\n",
    "    if len(values) == 2:\n",
    "        return key, key\n",
    "    return None\n",
    "\n",
    "def RECORDREADER(count):\n",
    "    return [(random.randint(0, 3), random.randint(0, 3)) for _ in range(count)]\n",
    "\n",
    "def group_by_key(iterable):\n",
    "    t = {}\n",
    "    for (k2, v2) in iterable:\n",
    "        t[k2] = t.get(k2, []) + [v2]\n",
    "    return t.items()\n",
    "\n",
    "record = RECORDREADER(100)\n",
    "print(\"Input records:\", record)\n",
    "\n",
    "map_output = list(map(MAP, record))\n",
    "print(\"MAP output:\", map_output)\n",
    "\n",
    "shuffle_output = list(group_by_key(map_output))\n",
    "print(\"Shuffle output:\", shuffle_output)\n",
    "\n",
    "reduce_output = list(filter(None, map(lambda x: REDUCE(*x), shuffle_output)))\n",
    "print(\"Reduce output:\", reduce_output)"
   ],
   "outputs": [
    {
     "name": "stdout",
     "output_type": "stream",
     "text": [
      "Input records: [(2, 3), (3, 2), (0, 0), (3, 0), (2, 1), (0, 1), (3, 1), (0, 3), (0, 1), (1, 0), (0, 3), (2, 1), (1, 3), (2, 1), (1, 1), (2, 3), (2, 3), (0, 0), (1, 2), (3, 0), (0, 2), (3, 0), (3, 1), (1, 3), (3, 1), (1, 2), (1, 0), (1, 0), (3, 0), (2, 3), (0, 0), (0, 1), (0, 2), (0, 1), (0, 1), (0, 3), (2, 1), (1, 3), (3, 1), (0, 0), (2, 3), (0, 2), (0, 2), (1, 1), (1, 3), (0, 2), (1, 1), (1, 0), (0, 0), (3, 2), (3, 2), (1, 2), (0, 1), (1, 2), (2, 0), (1, 3), (2, 2), (0, 3), (2, 3), (2, 1), (1, 0), (1, 2), (0, 3), (0, 2), (3, 2), (2, 1), (0, 2), (1, 2), (3, 0), (2, 1), (0, 3), (0, 1), (3, 3), (3, 2), (1, 2), (2, 3), (3, 2), (2, 3), (1, 3), (3, 2), (2, 3), (3, 1), (1, 1), (2, 3), (1, 0), (2, 2), (3, 0), (3, 2), (2, 1), (0, 0), (1, 2), (1, 2), (0, 2), (1, 0), (2, 0), (1, 0), (3, 3), (0, 1), (3, 3), (2, 0)]\n",
      "MAP output: [((2, 3), (2, 3)), ((3, 2), (3, 2)), ((0, 0), (0, 0)), ((3, 0), (3, 0)), ((2, 1), (2, 1)), ((0, 1), (0, 1)), ((3, 1), (3, 1)), ((0, 3), (0, 3)), ((0, 1), (0, 1)), ((1, 0), (1, 0)), ((0, 3), (0, 3)), ((2, 1), (2, 1)), ((1, 3), (1, 3)), ((2, 1), (2, 1)), ((1, 1), (1, 1)), ((2, 3), (2, 3)), ((2, 3), (2, 3)), ((0, 0), (0, 0)), ((1, 2), (1, 2)), ((3, 0), (3, 0)), ((0, 2), (0, 2)), ((3, 0), (3, 0)), ((3, 1), (3, 1)), ((1, 3), (1, 3)), ((3, 1), (3, 1)), ((1, 2), (1, 2)), ((1, 0), (1, 0)), ((1, 0), (1, 0)), ((3, 0), (3, 0)), ((2, 3), (2, 3)), ((0, 0), (0, 0)), ((0, 1), (0, 1)), ((0, 2), (0, 2)), ((0, 1), (0, 1)), ((0, 1), (0, 1)), ((0, 3), (0, 3)), ((2, 1), (2, 1)), ((1, 3), (1, 3)), ((3, 1), (3, 1)), ((0, 0), (0, 0)), ((2, 3), (2, 3)), ((0, 2), (0, 2)), ((0, 2), (0, 2)), ((1, 1), (1, 1)), ((1, 3), (1, 3)), ((0, 2), (0, 2)), ((1, 1), (1, 1)), ((1, 0), (1, 0)), ((0, 0), (0, 0)), ((3, 2), (3, 2)), ((3, 2), (3, 2)), ((1, 2), (1, 2)), ((0, 1), (0, 1)), ((1, 2), (1, 2)), ((2, 0), (2, 0)), ((1, 3), (1, 3)), ((2, 2), (2, 2)), ((0, 3), (0, 3)), ((2, 3), (2, 3)), ((2, 1), (2, 1)), ((1, 0), (1, 0)), ((1, 2), (1, 2)), ((0, 3), (0, 3)), ((0, 2), (0, 2)), ((3, 2), (3, 2)), ((2, 1), (2, 1)), ((0, 2), (0, 2)), ((1, 2), (1, 2)), ((3, 0), (3, 0)), ((2, 1), (2, 1)), ((0, 3), (0, 3)), ((0, 1), (0, 1)), ((3, 3), (3, 3)), ((3, 2), (3, 2)), ((1, 2), (1, 2)), ((2, 3), (2, 3)), ((3, 2), (3, 2)), ((2, 3), (2, 3)), ((1, 3), (1, 3)), ((3, 2), (3, 2)), ((2, 3), (2, 3)), ((3, 1), (3, 1)), ((1, 1), (1, 1)), ((2, 3), (2, 3)), ((1, 0), (1, 0)), ((2, 2), (2, 2)), ((3, 0), (3, 0)), ((3, 2), (3, 2)), ((2, 1), (2, 1)), ((0, 0), (0, 0)), ((1, 2), (1, 2)), ((1, 2), (1, 2)), ((0, 2), (0, 2)), ((1, 0), (1, 0)), ((2, 0), (2, 0)), ((1, 0), (1, 0)), ((3, 3), (3, 3)), ((0, 1), (0, 1)), ((3, 3), (3, 3)), ((2, 0), (2, 0))]\n",
      "Shuffle output: [((2, 3), [(2, 3), (2, 3), (2, 3), (2, 3), (2, 3), (2, 3), (2, 3), (2, 3), (2, 3), (2, 3)]), ((3, 2), [(3, 2), (3, 2), (3, 2), (3, 2), (3, 2), (3, 2), (3, 2), (3, 2)]), ((0, 0), [(0, 0), (0, 0), (0, 0), (0, 0), (0, 0), (0, 0)]), ((3, 0), [(3, 0), (3, 0), (3, 0), (3, 0), (3, 0), (3, 0)]), ((2, 1), [(2, 1), (2, 1), (2, 1), (2, 1), (2, 1), (2, 1), (2, 1), (2, 1)]), ((0, 1), [(0, 1), (0, 1), (0, 1), (0, 1), (0, 1), (0, 1), (0, 1), (0, 1)]), ((3, 1), [(3, 1), (3, 1), (3, 1), (3, 1), (3, 1)]), ((0, 3), [(0, 3), (0, 3), (0, 3), (0, 3), (0, 3), (0, 3)]), ((1, 0), [(1, 0), (1, 0), (1, 0), (1, 0), (1, 0), (1, 0), (1, 0), (1, 0)]), ((1, 3), [(1, 3), (1, 3), (1, 3), (1, 3), (1, 3), (1, 3)]), ((1, 1), [(1, 1), (1, 1), (1, 1), (1, 1)]), ((1, 2), [(1, 2), (1, 2), (1, 2), (1, 2), (1, 2), (1, 2), (1, 2), (1, 2), (1, 2)]), ((0, 2), [(0, 2), (0, 2), (0, 2), (0, 2), (0, 2), (0, 2), (0, 2), (0, 2)]), ((2, 0), [(2, 0), (2, 0), (2, 0)]), ((2, 2), [(2, 2), (2, 2)]), ((3, 3), [(3, 3), (3, 3), (3, 3)])]\n",
      "Reduce output: [((2, 2), (2, 2))]\n"
     ]
    }
   ],
   "execution_count": 169
  },
  {
   "cell_type": "markdown",
   "metadata": {
    "id": "AVOpqoY3wE5k"
   },
   "source": [
    "### Difference (Разница)\n",
    "\n",
    "**The Map Function:** Для кортежа $t \\in R$, создайте пару $(t, R)$, и для кортежа $t \\in S$, создайте пару $(t, S)$. Задумка заключается в том, чтобы значение пары было именем отношения $R$ or $S$, которому принадлежит кортеж (а лучше, единичный бит, по которому можно два отношения различить $R$ or $S$), а не весь набор атрибутов отношения.\n",
    "\n",
    "**The Reduce Function:** Для каждого ключа $t$, если соответствующее значение является списком $[R]$, создайте пару $(t, t)$. В иных случаях не предпринимайте действий."
   ]
  },
  {
   "cell_type": "code",
   "metadata": {
    "id": "QE_AC09lwZIZ",
    "ExecuteTime": {
     "end_time": "2025-02-27T17:58:57.877736Z",
     "start_time": "2025-02-27T17:58:57.863734Z"
    }
   },
   "source": [
    "import random\n",
    "\n",
    "rels = [1, 2]\n",
    "\n",
    "class Tuple:\n",
    "    def __init__(self, data: tuple, rel_id: int):\n",
    "        self.data = data\n",
    "        self.rel_id = rel_id\n",
    "\n",
    "def get_random_tuple(count):\n",
    "    data = tuple((random.randint(0, 3), random.randint(0, 3)) for _ in range(count))\n",
    "    rel_id = random.choice(rels)\n",
    "    return Tuple(data, rel_id)\n",
    "\n",
    "def RECORDREADER(count):\n",
    "    return [get_random_tuple(3) for _ in range(count)]\n",
    "\n",
    "def MAP(t: Tuple):\n",
    "    return t.data, t.rel_id\n",
    "\n",
    "def REDUCE(key, values):\n",
    "    if rels[0] in values:\n",
    "        return key, key\n",
    "    return None\n",
    "\n",
    "def group_by_key(iterable):\n",
    "    t = {}\n",
    "    for (k2, v2) in iterable:\n",
    "        t[k2] = t.get(k2, []) + [v2]\n",
    "    return t.items()\n",
    "\n",
    "record = RECORDREADER(100)\n",
    "\n",
    "map_output = list(map(MAP, record))\n",
    "print(\"MAP output:\", map_output)\n",
    "\n",
    "shuffle_output = list(group_by_key(map_output))\n",
    "print(\"Shuffle output:\", shuffle_output)\n",
    "\n",
    "reduce_output = list(filter(None, map(lambda x: REDUCE(*x), shuffle_output)))\n",
    "print(\"Reduce output:\", reduce_output)"
   ],
   "outputs": [
    {
     "name": "stdout",
     "output_type": "stream",
     "text": [
      "MAP output: [(((3, 3), (1, 0), (1, 2)), 2), (((1, 2), (2, 2), (1, 3)), 1), (((1, 1), (1, 0), (0, 1)), 2), (((1, 0), (0, 3), (2, 2)), 2), (((0, 1), (2, 2), (1, 2)), 1), (((3, 3), (0, 2), (0, 0)), 2), (((2, 1), (1, 2), (1, 1)), 1), (((3, 2), (2, 3), (1, 3)), 2), (((1, 0), (1, 1), (1, 0)), 2), (((3, 1), (0, 2), (2, 2)), 1), (((0, 3), (3, 3), (2, 0)), 2), (((0, 3), (3, 2), (1, 0)), 2), (((3, 0), (1, 3), (0, 2)), 1), (((1, 1), (0, 3), (3, 3)), 2), (((1, 0), (3, 0), (0, 0)), 2), (((2, 0), (3, 0), (2, 3)), 1), (((3, 2), (1, 0), (1, 0)), 1), (((0, 1), (0, 3), (3, 1)), 1), (((2, 3), (1, 0), (2, 1)), 1), (((1, 1), (1, 0), (3, 1)), 1), (((2, 1), (1, 2), (1, 0)), 2), (((3, 0), (2, 1), (2, 1)), 2), (((1, 1), (0, 1), (1, 0)), 1), (((2, 0), (0, 2), (1, 2)), 2), (((3, 1), (1, 0), (0, 2)), 1), (((2, 2), (0, 0), (0, 1)), 2), (((3, 0), (1, 2), (0, 2)), 2), (((2, 3), (0, 3), (1, 3)), 1), (((3, 2), (3, 1), (0, 2)), 1), (((0, 0), (3, 3), (0, 2)), 1), (((2, 3), (2, 3), (1, 1)), 2), (((3, 1), (1, 0), (0, 2)), 2), (((2, 2), (3, 0), (0, 0)), 2), (((0, 2), (3, 0), (0, 0)), 2), (((0, 2), (0, 3), (2, 0)), 2), (((2, 2), (1, 3), (3, 0)), 2), (((1, 1), (0, 0), (0, 2)), 1), (((1, 3), (1, 3), (3, 1)), 1), (((3, 3), (1, 2), (1, 2)), 2), (((3, 3), (3, 3), (0, 2)), 2), (((2, 0), (1, 2), (2, 2)), 1), (((1, 0), (0, 2), (3, 3)), 1), (((2, 1), (3, 0), (3, 1)), 1), (((0, 0), (0, 0), (0, 2)), 1), (((3, 0), (1, 2), (2, 1)), 2), (((2, 0), (1, 2), (3, 2)), 2), (((0, 0), (0, 2), (0, 3)), 1), (((3, 0), (2, 2), (3, 0)), 1), (((1, 0), (2, 1), (3, 2)), 1), (((2, 2), (0, 1), (3, 3)), 2), (((2, 3), (3, 3), (3, 0)), 1), (((2, 1), (1, 0), (1, 1)), 1), (((0, 0), (0, 1), (3, 1)), 1), (((2, 0), (1, 1), (2, 0)), 1), (((3, 3), (1, 3), (0, 0)), 1), (((0, 3), (3, 0), (2, 3)), 1), (((3, 2), (1, 0), (2, 2)), 2), (((3, 0), (1, 3), (2, 2)), 2), (((0, 0), (0, 3), (0, 1)), 2), (((0, 0), (2, 1), (3, 2)), 1), (((2, 3), (1, 3), (3, 1)), 1), (((1, 1), (3, 3), (2, 2)), 2), (((2, 3), (2, 1), (1, 3)), 1), (((2, 1), (3, 2), (2, 0)), 2), (((3, 3), (0, 0), (1, 2)), 2), (((1, 0), (0, 3), (3, 2)), 2), (((2, 1), (0, 1), (2, 2)), 1), (((2, 2), (0, 1), (1, 2)), 1), (((2, 0), (3, 1), (1, 1)), 1), (((1, 0), (2, 1), (2, 0)), 2), (((3, 1), (1, 1), (1, 0)), 1), (((3, 2), (2, 1), (1, 2)), 2), (((0, 1), (3, 3), (1, 2)), 1), (((3, 2), (1, 0), (3, 2)), 2), (((3, 2), (3, 1), (3, 1)), 1), (((2, 1), (0, 0), (1, 0)), 2), (((2, 1), (2, 2), (1, 0)), 2), (((0, 1), (1, 1), (0, 0)), 2), (((0, 1), (1, 2), (1, 3)), 1), (((0, 1), (1, 1), (3, 1)), 1), (((3, 2), (3, 0), (3, 1)), 1), (((3, 3), (0, 1), (0, 3)), 2), (((0, 1), (1, 2), (2, 1)), 2), (((0, 0), (0, 1), (1, 1)), 2), (((1, 3), (2, 3), (2, 3)), 2), (((3, 2), (3, 2), (3, 2)), 2), (((3, 1), (1, 1), (3, 2)), 1), (((3, 2), (1, 1), (3, 1)), 2), (((0, 0), (3, 0), (2, 0)), 1), (((2, 2), (2, 2), (2, 0)), 1), (((3, 3), (1, 0), (0, 1)), 2), (((1, 3), (0, 1), (2, 0)), 2), (((3, 2), (0, 1), (2, 2)), 1), (((1, 3), (3, 2), (1, 2)), 1), (((2, 2), (2, 0), (3, 3)), 2), (((0, 0), (3, 0), (3, 1)), 2), (((3, 3), (2, 2), (3, 3)), 1), (((1, 2), (1, 2), (3, 0)), 2), (((3, 0), (0, 1), (1, 1)), 1), (((3, 3), (2, 0), (2, 1)), 1)]\n",
      "Shuffle output: [(((3, 3), (1, 0), (1, 2)), [2]), (((1, 2), (2, 2), (1, 3)), [1]), (((1, 1), (1, 0), (0, 1)), [2]), (((1, 0), (0, 3), (2, 2)), [2]), (((0, 1), (2, 2), (1, 2)), [1]), (((3, 3), (0, 2), (0, 0)), [2]), (((2, 1), (1, 2), (1, 1)), [1]), (((3, 2), (2, 3), (1, 3)), [2]), (((1, 0), (1, 1), (1, 0)), [2]), (((3, 1), (0, 2), (2, 2)), [1]), (((0, 3), (3, 3), (2, 0)), [2]), (((0, 3), (3, 2), (1, 0)), [2]), (((3, 0), (1, 3), (0, 2)), [1]), (((1, 1), (0, 3), (3, 3)), [2]), (((1, 0), (3, 0), (0, 0)), [2]), (((2, 0), (3, 0), (2, 3)), [1]), (((3, 2), (1, 0), (1, 0)), [1]), (((0, 1), (0, 3), (3, 1)), [1]), (((2, 3), (1, 0), (2, 1)), [1]), (((1, 1), (1, 0), (3, 1)), [1]), (((2, 1), (1, 2), (1, 0)), [2]), (((3, 0), (2, 1), (2, 1)), [2]), (((1, 1), (0, 1), (1, 0)), [1]), (((2, 0), (0, 2), (1, 2)), [2]), (((3, 1), (1, 0), (0, 2)), [1, 2]), (((2, 2), (0, 0), (0, 1)), [2]), (((3, 0), (1, 2), (0, 2)), [2]), (((2, 3), (0, 3), (1, 3)), [1]), (((3, 2), (3, 1), (0, 2)), [1]), (((0, 0), (3, 3), (0, 2)), [1]), (((2, 3), (2, 3), (1, 1)), [2]), (((2, 2), (3, 0), (0, 0)), [2]), (((0, 2), (3, 0), (0, 0)), [2]), (((0, 2), (0, 3), (2, 0)), [2]), (((2, 2), (1, 3), (3, 0)), [2]), (((1, 1), (0, 0), (0, 2)), [1]), (((1, 3), (1, 3), (3, 1)), [1]), (((3, 3), (1, 2), (1, 2)), [2]), (((3, 3), (3, 3), (0, 2)), [2]), (((2, 0), (1, 2), (2, 2)), [1]), (((1, 0), (0, 2), (3, 3)), [1]), (((2, 1), (3, 0), (3, 1)), [1]), (((0, 0), (0, 0), (0, 2)), [1]), (((3, 0), (1, 2), (2, 1)), [2]), (((2, 0), (1, 2), (3, 2)), [2]), (((0, 0), (0, 2), (0, 3)), [1]), (((3, 0), (2, 2), (3, 0)), [1]), (((1, 0), (2, 1), (3, 2)), [1]), (((2, 2), (0, 1), (3, 3)), [2]), (((2, 3), (3, 3), (3, 0)), [1]), (((2, 1), (1, 0), (1, 1)), [1]), (((0, 0), (0, 1), (3, 1)), [1]), (((2, 0), (1, 1), (2, 0)), [1]), (((3, 3), (1, 3), (0, 0)), [1]), (((0, 3), (3, 0), (2, 3)), [1]), (((3, 2), (1, 0), (2, 2)), [2]), (((3, 0), (1, 3), (2, 2)), [2]), (((0, 0), (0, 3), (0, 1)), [2]), (((0, 0), (2, 1), (3, 2)), [1]), (((2, 3), (1, 3), (3, 1)), [1]), (((1, 1), (3, 3), (2, 2)), [2]), (((2, 3), (2, 1), (1, 3)), [1]), (((2, 1), (3, 2), (2, 0)), [2]), (((3, 3), (0, 0), (1, 2)), [2]), (((1, 0), (0, 3), (3, 2)), [2]), (((2, 1), (0, 1), (2, 2)), [1]), (((2, 2), (0, 1), (1, 2)), [1]), (((2, 0), (3, 1), (1, 1)), [1]), (((1, 0), (2, 1), (2, 0)), [2]), (((3, 1), (1, 1), (1, 0)), [1]), (((3, 2), (2, 1), (1, 2)), [2]), (((0, 1), (3, 3), (1, 2)), [1]), (((3, 2), (1, 0), (3, 2)), [2]), (((3, 2), (3, 1), (3, 1)), [1]), (((2, 1), (0, 0), (1, 0)), [2]), (((2, 1), (2, 2), (1, 0)), [2]), (((0, 1), (1, 1), (0, 0)), [2]), (((0, 1), (1, 2), (1, 3)), [1]), (((0, 1), (1, 1), (3, 1)), [1]), (((3, 2), (3, 0), (3, 1)), [1]), (((3, 3), (0, 1), (0, 3)), [2]), (((0, 1), (1, 2), (2, 1)), [2]), (((0, 0), (0, 1), (1, 1)), [2]), (((1, 3), (2, 3), (2, 3)), [2]), (((3, 2), (3, 2), (3, 2)), [2]), (((3, 1), (1, 1), (3, 2)), [1]), (((3, 2), (1, 1), (3, 1)), [2]), (((0, 0), (3, 0), (2, 0)), [1]), (((2, 2), (2, 2), (2, 0)), [1]), (((3, 3), (1, 0), (0, 1)), [2]), (((1, 3), (0, 1), (2, 0)), [2]), (((3, 2), (0, 1), (2, 2)), [1]), (((1, 3), (3, 2), (1, 2)), [1]), (((2, 2), (2, 0), (3, 3)), [2]), (((0, 0), (3, 0), (3, 1)), [2]), (((3, 3), (2, 2), (3, 3)), [1]), (((1, 2), (1, 2), (3, 0)), [2]), (((3, 0), (0, 1), (1, 1)), [1]), (((3, 3), (2, 0), (2, 1)), [1])]\n",
      "Reduce output: [(((1, 2), (2, 2), (1, 3)), ((1, 2), (2, 2), (1, 3))), (((0, 1), (2, 2), (1, 2)), ((0, 1), (2, 2), (1, 2))), (((2, 1), (1, 2), (1, 1)), ((2, 1), (1, 2), (1, 1))), (((3, 1), (0, 2), (2, 2)), ((3, 1), (0, 2), (2, 2))), (((3, 0), (1, 3), (0, 2)), ((3, 0), (1, 3), (0, 2))), (((2, 0), (3, 0), (2, 3)), ((2, 0), (3, 0), (2, 3))), (((3, 2), (1, 0), (1, 0)), ((3, 2), (1, 0), (1, 0))), (((0, 1), (0, 3), (3, 1)), ((0, 1), (0, 3), (3, 1))), (((2, 3), (1, 0), (2, 1)), ((2, 3), (1, 0), (2, 1))), (((1, 1), (1, 0), (3, 1)), ((1, 1), (1, 0), (3, 1))), (((1, 1), (0, 1), (1, 0)), ((1, 1), (0, 1), (1, 0))), (((3, 1), (1, 0), (0, 2)), ((3, 1), (1, 0), (0, 2))), (((2, 3), (0, 3), (1, 3)), ((2, 3), (0, 3), (1, 3))), (((3, 2), (3, 1), (0, 2)), ((3, 2), (3, 1), (0, 2))), (((0, 0), (3, 3), (0, 2)), ((0, 0), (3, 3), (0, 2))), (((1, 1), (0, 0), (0, 2)), ((1, 1), (0, 0), (0, 2))), (((1, 3), (1, 3), (3, 1)), ((1, 3), (1, 3), (3, 1))), (((2, 0), (1, 2), (2, 2)), ((2, 0), (1, 2), (2, 2))), (((1, 0), (0, 2), (3, 3)), ((1, 0), (0, 2), (3, 3))), (((2, 1), (3, 0), (3, 1)), ((2, 1), (3, 0), (3, 1))), (((0, 0), (0, 0), (0, 2)), ((0, 0), (0, 0), (0, 2))), (((0, 0), (0, 2), (0, 3)), ((0, 0), (0, 2), (0, 3))), (((3, 0), (2, 2), (3, 0)), ((3, 0), (2, 2), (3, 0))), (((1, 0), (2, 1), (3, 2)), ((1, 0), (2, 1), (3, 2))), (((2, 3), (3, 3), (3, 0)), ((2, 3), (3, 3), (3, 0))), (((2, 1), (1, 0), (1, 1)), ((2, 1), (1, 0), (1, 1))), (((0, 0), (0, 1), (3, 1)), ((0, 0), (0, 1), (3, 1))), (((2, 0), (1, 1), (2, 0)), ((2, 0), (1, 1), (2, 0))), (((3, 3), (1, 3), (0, 0)), ((3, 3), (1, 3), (0, 0))), (((0, 3), (3, 0), (2, 3)), ((0, 3), (3, 0), (2, 3))), (((0, 0), (2, 1), (3, 2)), ((0, 0), (2, 1), (3, 2))), (((2, 3), (1, 3), (3, 1)), ((2, 3), (1, 3), (3, 1))), (((2, 3), (2, 1), (1, 3)), ((2, 3), (2, 1), (1, 3))), (((2, 1), (0, 1), (2, 2)), ((2, 1), (0, 1), (2, 2))), (((2, 2), (0, 1), (1, 2)), ((2, 2), (0, 1), (1, 2))), (((2, 0), (3, 1), (1, 1)), ((2, 0), (3, 1), (1, 1))), (((3, 1), (1, 1), (1, 0)), ((3, 1), (1, 1), (1, 0))), (((0, 1), (3, 3), (1, 2)), ((0, 1), (3, 3), (1, 2))), (((3, 2), (3, 1), (3, 1)), ((3, 2), (3, 1), (3, 1))), (((0, 1), (1, 2), (1, 3)), ((0, 1), (1, 2), (1, 3))), (((0, 1), (1, 1), (3, 1)), ((0, 1), (1, 1), (3, 1))), (((3, 2), (3, 0), (3, 1)), ((3, 2), (3, 0), (3, 1))), (((3, 1), (1, 1), (3, 2)), ((3, 1), (1, 1), (3, 2))), (((0, 0), (3, 0), (2, 0)), ((0, 0), (3, 0), (2, 0))), (((2, 2), (2, 2), (2, 0)), ((2, 2), (2, 2), (2, 0))), (((3, 2), (0, 1), (2, 2)), ((3, 2), (0, 1), (2, 2))), (((1, 3), (3, 2), (1, 2)), ((1, 3), (3, 2), (1, 2))), (((3, 3), (2, 2), (3, 3)), ((3, 3), (2, 2), (3, 3))), (((3, 0), (0, 1), (1, 1)), ((3, 0), (0, 1), (1, 1))), (((3, 3), (2, 0), (2, 1)), ((3, 3), (2, 0), (2, 1)))]\n"
     ]
    }
   ],
   "execution_count": 170
  },
  {
   "cell_type": "markdown",
   "metadata": {
    "id": "j8I58V2VwhSm"
   },
   "source": [
    "### Natural Join\n",
    "\n",
    "**The Map Function:** Для каждого кортежа $(a, b)$ отношения $R$, создайте пару $(b,(R, a))$. Для каждого кортежа $(b, c)$ отношения $S$, создайте пару $(b,(S, c))$.\n",
    "\n",
    "**The Reduce Function:** Каждый ключ $b$ будет асоциирован со списком пар, которые принимают форму либо $(R, a)$, либо $(S, c)$. Создайте все пары, одни, состоящие из  первого компонента $R$, а другие, из первого компонента $S$, то есть $(R, a)$ и $(S, c)$. На выходе вы получаете последовательность пар ключ-значение из списков ключей и значений. Ключ не нужен. Каждое значение, это тройка $(a, b, c)$ такая, что $(R, a)$ и $(S, c)$ это принадлежат входному списку значений."
   ]
  },
  {
   "cell_type": "code",
   "metadata": {
    "id": "yHiuuTctw86I",
    "ExecuteTime": {
     "end_time": "2025-02-27T17:58:57.893250Z",
     "start_time": "2025-02-27T17:58:57.882736Z"
    }
   },
   "source": [
    "import random\n",
    "from collections import defaultdict\n",
    "\n",
    "rels = [1, 2]  # Возможные идентификаторы связей\n",
    "\n",
    "class Tuple:\n",
    "    def __init__(self, data: tuple, rel_id: int):\n",
    "        self.data = data\n",
    "        self.rel_id = rel_id\n",
    "\n",
    "def get_random_tuple():\n",
    "    return Tuple((random.randint(0, 3), random.randint(0, 3)), random.choice(rels))\n",
    "\n",
    "def RECORDREADER(count):\n",
    "    return [get_random_tuple() for _ in range(count)]\n",
    "\n",
    "def MAP(t: Tuple):\n",
    "    return (t.data[1], (t.rel_id, t.data[0])) if t.rel_id == rels[0] else (t.data[0], (t.rel_id, t.data[1]))\n",
    "\n",
    "def REDUCE(key, values):\n",
    "    return [(v[0], key, v[1]) for v in values]\n",
    "\n",
    "def group_by_key(iterable):\n",
    "    t = {}\n",
    "    for (k2, v2) in iterable:\n",
    "        t[k2] = t.get(k2, []) + [v2]\n",
    "    return t.items()\n",
    "\n",
    "record = RECORDREADER(100)\n",
    "\n",
    "map_output = list(map(MAP, record))\n",
    "print(\"MAP output:\", map_output)\n",
    "\n",
    "shuffle_output = list(group_by_key(map_output))\n",
    "print(\"Shuffle output:\", shuffle_output)\n",
    "\n",
    "reduce_output = [item for sublist in map(lambda x: REDUCE(*x), shuffle_output) for item in sublist]\n",
    "print(\"Reduce output:\", reduce_output)\n"
   ],
   "outputs": [
    {
     "name": "stdout",
     "output_type": "stream",
     "text": [
      "MAP output: [(3, (2, 2)), (3, (2, 3)), (2, (2, 3)), (2, (2, 3)), (0, (2, 3)), (0, (1, 1)), (1, (1, 0)), (2, (1, 0)), (1, (2, 2)), (1, (1, 2)), (0, (2, 1)), (3, (1, 0)), (3, (2, 1)), (1, (1, 3)), (1, (2, 3)), (1, (1, 1)), (3, (2, 1)), (3, (1, 2)), (2, (1, 0)), (3, (1, 2)), (2, (1, 2)), (3, (1, 1)), (0, (2, 3)), (0, (2, 3)), (0, (2, 0)), (1, (2, 3)), (0, (1, 1)), (2, (1, 3)), (2, (2, 0)), (1, (1, 2)), (2, (2, 0)), (2, (2, 0)), (0, (1, 1)), (1, (2, 0)), (0, (1, 3)), (0, (1, 3)), (0, (1, 3)), (3, (2, 0)), (2, (2, 1)), (1, (1, 3)), (0, (1, 2)), (0, (2, 0)), (3, (1, 2)), (1, (1, 1)), (3, (2, 0)), (1, (1, 0)), (1, (2, 3)), (3, (1, 2)), (2, (1, 2)), (1, (2, 3)), (1, (1, 1)), (1, (1, 0)), (1, (2, 0)), (1, (2, 1)), (1, (1, 2)), (0, (2, 3)), (1, (2, 3)), (1, (2, 0)), (1, (2, 3)), (1, (2, 3)), (1, (2, 2)), (3, (1, 0)), (2, (1, 0)), (3, (1, 1)), (3, (1, 1)), (2, (1, 2)), (1, (1, 0)), (3, (2, 3)), (2, (2, 3)), (2, (2, 2)), (0, (2, 2)), (3, (1, 2)), (0, (1, 0)), (0, (2, 3)), (3, (2, 3)), (2, (1, 3)), (3, (2, 0)), (0, (2, 3)), (2, (2, 3)), (2, (1, 3)), (2, (1, 1)), (3, (1, 0)), (3, (2, 1)), (1, (2, 2)), (3, (1, 1)), (1, (1, 0)), (3, (1, 2)), (0, (2, 1)), (0, (2, 0)), (1, (2, 0)), (3, (2, 3)), (3, (1, 2)), (1, (2, 0)), (3, (1, 2)), (0, (2, 0)), (1, (2, 2)), (1, (1, 0)), (1, (1, 0)), (3, (2, 1)), (1, (1, 3))]\n",
      "Shuffle output: [(3, [(2, 2), (2, 3), (1, 0), (2, 1), (2, 1), (1, 2), (1, 2), (1, 1), (2, 0), (1, 2), (2, 0), (1, 2), (1, 0), (1, 1), (1, 1), (2, 3), (1, 2), (2, 3), (2, 0), (1, 0), (2, 1), (1, 1), (1, 2), (2, 3), (1, 2), (1, 2), (2, 1)]), (2, [(2, 3), (2, 3), (1, 0), (1, 0), (1, 2), (1, 3), (2, 0), (2, 0), (2, 0), (2, 1), (1, 2), (1, 0), (1, 2), (2, 3), (2, 2), (1, 3), (2, 3), (1, 3), (1, 1)]), (0, [(2, 3), (1, 1), (2, 1), (2, 3), (2, 3), (2, 0), (1, 1), (1, 1), (1, 3), (1, 3), (1, 3), (1, 2), (2, 0), (2, 3), (2, 2), (1, 0), (2, 3), (2, 3), (2, 1), (2, 0), (2, 0)]), (1, [(1, 0), (2, 2), (1, 2), (1, 3), (2, 3), (1, 1), (2, 3), (1, 2), (2, 0), (1, 3), (1, 1), (1, 0), (2, 3), (2, 3), (1, 1), (1, 0), (2, 0), (2, 1), (1, 2), (2, 3), (2, 0), (2, 3), (2, 3), (2, 2), (1, 0), (2, 2), (1, 0), (2, 0), (2, 0), (2, 2), (1, 0), (1, 0), (1, 3)])]\n",
      "Reduce output: [(2, 3, 2), (2, 3, 3), (1, 3, 0), (2, 3, 1), (2, 3, 1), (1, 3, 2), (1, 3, 2), (1, 3, 1), (2, 3, 0), (1, 3, 2), (2, 3, 0), (1, 3, 2), (1, 3, 0), (1, 3, 1), (1, 3, 1), (2, 3, 3), (1, 3, 2), (2, 3, 3), (2, 3, 0), (1, 3, 0), (2, 3, 1), (1, 3, 1), (1, 3, 2), (2, 3, 3), (1, 3, 2), (1, 3, 2), (2, 3, 1), (2, 2, 3), (2, 2, 3), (1, 2, 0), (1, 2, 0), (1, 2, 2), (1, 2, 3), (2, 2, 0), (2, 2, 0), (2, 2, 0), (2, 2, 1), (1, 2, 2), (1, 2, 0), (1, 2, 2), (2, 2, 3), (2, 2, 2), (1, 2, 3), (2, 2, 3), (1, 2, 3), (1, 2, 1), (2, 0, 3), (1, 0, 1), (2, 0, 1), (2, 0, 3), (2, 0, 3), (2, 0, 0), (1, 0, 1), (1, 0, 1), (1, 0, 3), (1, 0, 3), (1, 0, 3), (1, 0, 2), (2, 0, 0), (2, 0, 3), (2, 0, 2), (1, 0, 0), (2, 0, 3), (2, 0, 3), (2, 0, 1), (2, 0, 0), (2, 0, 0), (1, 1, 0), (2, 1, 2), (1, 1, 2), (1, 1, 3), (2, 1, 3), (1, 1, 1), (2, 1, 3), (1, 1, 2), (2, 1, 0), (1, 1, 3), (1, 1, 1), (1, 1, 0), (2, 1, 3), (2, 1, 3), (1, 1, 1), (1, 1, 0), (2, 1, 0), (2, 1, 1), (1, 1, 2), (2, 1, 3), (2, 1, 0), (2, 1, 3), (2, 1, 3), (2, 1, 2), (1, 1, 0), (2, 1, 2), (1, 1, 0), (2, 1, 0), (2, 1, 0), (2, 1, 2), (1, 1, 0), (1, 1, 0), (1, 1, 3)]\n"
     ]
    }
   ],
   "execution_count": 171
  },
  {
   "cell_type": "markdown",
   "metadata": {
    "id": "kYdlr0YUxE27"
   },
   "source": [
    "### Grouping and Aggregation (Группировка и аггрегация)\n",
    "\n",
    "**The Map Function:** Для каждого кортежа $(a, b, c$) создайте пару $(a, b)$.\n",
    "\n",
    "**The Reduce Function:** Ключ представляет ту или иную группу. Примение аггрегирующую операцию $\\theta$ к списку значений $[b1, b2, . . . , bn]$ ассоциированных с ключом $a$. Возвращайте в выходной поток $(a, x)$, где $x$ результат применения  $\\theta$ к списку. Например, если $\\theta$ это $SUM$, тогда $x = b1 + b2 + · · · + bn$, а если $\\theta$ is $MAX$, тогда $x$ это максимальное из значений $b1, b2, . . . , bn$."
   ]
  },
  {
   "cell_type": "code",
   "metadata": {
    "id": "MLPckfEGxico",
    "ExecuteTime": {
     "end_time": "2025-02-27T17:58:57.923249Z",
     "start_time": "2025-02-27T17:58:57.909255Z"
    }
   },
   "source": [
    "import random\n",
    "\n",
    "def get_random_tuple():\n",
    "    return tuple(random.choices(range(4), k=3))\n",
    "\n",
    "def RECORDREADER(count):\n",
    "    return [get_random_tuple() for _ in range(count)]\n",
    "\n",
    "def MAP(t):\n",
    "    return t[:2]\n",
    "\n",
    "def REDUCE(key, values):\n",
    "    return key, sum(values)\n",
    "\n",
    "def group_by_key(iterable):\n",
    "    t = {}\n",
    "    for (k2, v2) in iterable:\n",
    "        t[k2] = t.get(k2, []) + [v2]\n",
    "    return t.items()\n",
    "\n",
    "record = RECORDREADER(100)\n",
    "\n",
    "map_output = [MAP(t) for t in record]\n",
    "print(\"MAP output:\", map_output)\n",
    "\n",
    "shuffle_output = list(group_by_key(map_output))\n",
    "print(\"Shuffle output:\", shuffle_output)\n",
    "\n",
    "reduce_output = [REDUCE(k, v) for k, v in shuffle_output]\n",
    "print(\"Reduce output:\", reduce_output)\n"
   ],
   "outputs": [
    {
     "name": "stdout",
     "output_type": "stream",
     "text": [
      "MAP output: [(2, 0), (1, 2), (0, 2), (3, 0), (3, 3), (0, 3), (3, 2), (1, 3), (2, 3), (2, 1), (0, 2), (0, 3), (3, 3), (3, 1), (0, 3), (3, 2), (2, 1), (3, 1), (3, 2), (3, 0), (2, 3), (0, 3), (1, 3), (2, 1), (0, 1), (3, 0), (0, 1), (3, 0), (3, 1), (0, 2), (1, 2), (0, 3), (0, 3), (2, 3), (1, 0), (3, 0), (3, 3), (3, 0), (2, 0), (1, 1), (0, 0), (1, 1), (0, 2), (1, 2), (1, 0), (0, 0), (2, 3), (0, 2), (2, 1), (0, 2), (0, 2), (0, 1), (3, 1), (0, 0), (3, 2), (2, 2), (3, 3), (0, 1), (1, 2), (3, 1), (1, 0), (3, 2), (3, 0), (1, 0), (1, 2), (0, 3), (1, 3), (3, 1), (2, 2), (3, 1), (0, 0), (1, 3), (2, 0), (3, 1), (3, 2), (3, 3), (2, 0), (2, 1), (1, 2), (0, 1), (0, 2), (2, 3), (2, 3), (3, 2), (1, 3), (3, 2), (1, 0), (0, 1), (2, 0), (3, 2), (0, 1), (3, 3), (3, 3), (1, 2), (1, 0), (3, 2), (1, 3), (0, 0), (0, 1), (1, 2)]\n",
      "Shuffle output: [(2, [0, 3, 1, 1, 3, 1, 3, 0, 3, 1, 2, 2, 0, 0, 1, 3, 3, 0]), (1, [2, 3, 3, 2, 0, 1, 1, 2, 0, 2, 0, 0, 2, 3, 3, 2, 3, 0, 2, 0, 3, 2]), (0, [2, 3, 2, 3, 3, 3, 1, 1, 2, 3, 3, 0, 2, 0, 2, 2, 2, 1, 0, 1, 3, 0, 1, 2, 1, 1, 0, 1]), (3, [0, 3, 2, 3, 1, 2, 1, 2, 0, 0, 0, 1, 0, 3, 0, 1, 2, 3, 1, 2, 0, 1, 1, 1, 2, 3, 2, 2, 2, 3, 3, 2])]\n",
      "Reduce output: [(2, 27), (1, 36), (0, 45), (3, 49)]\n"
     ]
    }
   ],
   "execution_count": 172
  },
  {
   "cell_type": "markdown",
   "metadata": {
    "id": "03IffTEOJgOb"
   },
   "source": [
    "# "
   ]
  },
  {
   "cell_type": "markdown",
   "metadata": {
    "id": "IIrRgvG4RIS4"
   },
   "source": [
    "### Matrix-Vector multiplication\n",
    "\n",
    "Случай, когда вектор не помещается в памяти Map задачи\n"
   ]
  },
  {
   "cell_type": "code",
   "metadata": {
    "id": "KQhDbiL3zS9r",
    "ExecuteTime": {
     "end_time": "2025-02-27T17:58:57.954291Z",
     "start_time": "2025-02-27T17:58:57.939783Z"
    }
   },
   "source": [],
   "outputs": [],
   "execution_count": null
  },
  {
   "cell_type": "markdown",
   "metadata": {
    "id": "GIo2t7nNxvA9"
   },
   "source": [
    "## Matrix multiplication (Перемножение матриц)\n",
    "\n",
    "Если у нас есть матрица $M$ с элементами $m_{ij}$ в строке $i$ и столбце $j$, и матрица $N$ с элементами $n_{jk}$ в строке $j$ и столбце $k$, тогда их произведение $P = MN$ есть матрица $P$ с элементами $p_{ik}$ в строке $i$ и столбце $k$, где\n",
    "\n",
    "$$p_{ik} =\\sum_{j} m_{ij}n_{jk}$$\n",
    "\n",
    "Необходимым требованием является одинаковое количество столбцов в $M$ и строк в $N$, чтобы операция суммирования по  $j$ была осмысленной. Мы можем размышлять о матрице, как об отношении с тремя атрибутами: номер строки, номер столбца, само значение. Таким образом матрица $M$ предстваляется как отношение $ M(I, J, V )$, с кортежами $(i, j, m_{ij})$, и, аналогично, матрица $N$ представляется как отношение $N(J, K, W)$, с кортежами $(j, k, n_{jk})$. Так как большие матрицы как правило разреженные (большинство значений равно 0), и так как мы можем нулевыми значениями пренебречь (не хранить), такое реляционное представление достаточно эффективно для больших матриц. Однако, возможно, что координаты $i$, $j$, и $k$ неявно закодированы в смещение позиции элемента относительно начала файла, вместо явного хранения. Тогда, функция Map (или Reader) должна быть разработана таким образом, чтобы реконструировать компоненты $I$, $J$, и $K$ кортежей из смещения.\n",
    "\n",
    "Произведение $MN$ это фактически join, за которым следуют группировка по ключу и аггрегация. Таким образом join отношений $M(I, J, V )$ и $N(J, K, W)$, имеющих общим только атрибут $J$, создаст кортежи $(i, j, k, v, w)$ из каждого кортежа $(i, j, v) \\in M$ и кортежа $(j, k, w) \\in N$. Такой 5 компонентный кортеж представляет пару элементов матрицы $(m_{ij} , n_{jk})$. Что нам хотелось бы получить на самом деле, это произведение этих элементов, то есть, 4 компонентный кортеж$(i, j, k, v \\times w)$, так как он представляет произведение $m_{ij}n_{jk}$. Мы представляем отношение как результат одной MapReduce операции, в которой мы можем произвести группировку и аггрегацию, с $I$ и $K$  атрибутами, по которым идёт группировка, и суммой  $V \\times W$. \n",
    "\n",
    "\n",
    "\n"
   ]
  },
  {
   "cell_type": "code",
   "metadata": {
    "id": "1MBkGaLAYVCt",
    "ExecuteTime": {
     "end_time": "2025-02-27T17:58:57.984295Z",
     "start_time": "2025-02-27T17:58:57.971293Z"
    }
   },
   "source": [
    "# MapReduce model\n",
    "def flatten(nested_iterable):\n",
    "  for iterable in nested_iterable:\n",
    "    for element in iterable:\n",
    "      yield element\n",
    "\n",
    "def groupbykey(iterable):\n",
    "  t = {}\n",
    "  for (k2, v2) in iterable:\n",
    "    t[k2] = t.get(k2, []) + [v2]\n",
    "  return t.items()\n",
    "\n",
    "def MapReduce(RECORDREADER, MAP, REDUCE):\n",
    "  return flatten(map(lambda x: REDUCE(*x), groupbykey(flatten(map(lambda x: MAP(*x), RECORDREADER())))))"
   ],
   "outputs": [],
   "execution_count": 173
  },
  {
   "cell_type": "markdown",
   "metadata": {
    "id": "sMspsOT0ZB35"
   },
   "source": [
    "Реализуйте перемножение матриц с использованием модельного кода MapReduce для одной машины в случае, когда одна матрица хранится в памяти, а другая генерируется RECORDREADER-ом."
   ]
  },
  {
   "cell_type": "code",
   "metadata": {
    "id": "psP1XekbsEjS",
    "ExecuteTime": {
     "end_time": "2025-02-27T17:58:58.014917Z",
     "start_time": "2025-02-27T17:58:58.002406Z"
    }
   },
   "source": [
    "import numpy as np\n",
    "I = 2\n",
    "J = 3\n",
    "K = 4*10\n",
    "small_mat = np.random.rand(I,J)\n",
    "big_mat = np.random.rand(J,K)\n",
    "\n",
    "def RECORDREADER():\n",
    "  for j in range(big_mat.shape[0]):\n",
    "    for k in range(big_mat.shape[1]):\n",
    "      yield (j, k), big_mat[j,k]\n",
    "      \n",
    "def MAP(k1, v1):\n",
    "    (j, k) = k1\n",
    "    w = v1\n",
    "    for i in range(small_mat.shape[0]):\n",
    "        yield (i, k), w * small_mat[i][j]\n",
    "\n",
    "def REDUCE(key, values):\n",
    "   (i, k) = key\n",
    "   el_value = sum(values)\n",
    "   yield key, el_value"
   ],
   "outputs": [],
   "execution_count": 174
  },
  {
   "cell_type": "markdown",
   "metadata": {
    "id": "rnt306LHhHrm"
   },
   "source": [
    "Проверьте своё решение"
   ]
  },
  {
   "cell_type": "code",
   "metadata": {
    "id": "Ewy_ZNYqW5a2",
    "colab": {
     "base_uri": "https://localhost:8080/",
     "height": 34
    },
    "outputId": "9ce264f2-9412-44e2-9b0a-cc780573ab3a",
    "ExecuteTime": {
     "end_time": "2025-02-27T17:58:58.045506Z",
     "start_time": "2025-02-27T17:58:58.031948Z"
    }
   },
   "source": [
    "# CHECK THE SOLUTION\n",
    "reference_solution = np.matmul(small_mat, big_mat) \n",
    "solution = MapReduce(RECORDREADER, MAP, REDUCE)\n",
    "\n",
    "def asmatrix(reduce_output):\n",
    "  reduce_output = list(reduce_output)\n",
    "  I = max(i for ((i,k), vw) in reduce_output)+1\n",
    "  K = max(k for ((i,k), vw) in reduce_output)+1\n",
    "  mat = np.empty(shape=(I,K))\n",
    "  for ((i,k), vw) in reduce_output:\n",
    "    mat[i,k] = vw\n",
    "  return mat\n",
    "\n",
    "np.allclose(reference_solution, asmatrix(solution)) # should return true"
   ],
   "outputs": [
    {
     "data": {
      "text/plain": [
       "True"
      ]
     },
     "execution_count": 175,
     "metadata": {},
     "output_type": "execute_result"
    }
   ],
   "execution_count": 175
  },
  {
   "cell_type": "code",
   "metadata": {
    "id": "TK7v4CEcfxqf",
    "colab": {
     "base_uri": "https://localhost:8080/",
     "height": 34
    },
    "outputId": "2c865d0a-4065-4e6b-c83f-5508ed5eb4fa",
    "ExecuteTime": {
     "end_time": "2025-02-27T17:58:58.076551Z",
     "start_time": "2025-02-27T17:58:58.061532Z"
    }
   },
   "source": [
    "reduce_output = list(MapReduce(RECORDREADER, MAP, REDUCE))\n",
    "max(i for ((i,k), vw) in reduce_output)"
   ],
   "outputs": [
    {
     "data": {
      "text/plain": [
       "1"
      ]
     },
     "execution_count": 176,
     "metadata": {},
     "output_type": "execute_result"
    }
   ],
   "execution_count": 176
  },
  {
   "cell_type": "markdown",
   "metadata": {
    "id": "i4yyg3kOZqJJ"
   },
   "source": [
    "Реализуйте перемножение матриц  с использованием модельного кода MapReduce для одной машины в случае, когда обе матрицы генерируются в RECORDREADER. Например, сначала одна, а потом другая."
   ]
  },
  {
   "cell_type": "code",
   "metadata": {
    "id": "3B7rIAJCaHZq",
    "ExecuteTime": {
     "end_time": "2025-02-27T17:58:58.107145Z",
     "start_time": "2025-02-27T17:58:58.093139Z"
    }
   },
   "source": [
    "import numpy as np\n",
    "\n",
    "I, J, K = 2, 3, 40\n",
    "small_mat = np.random.rand(I, J)\n",
    "big_mat = np.random.rand(J, K)\n",
    "\n",
    "reference_solution = np.matmul(small_mat, big_mat)\n",
    "\n",
    "def flatten(nested):\n",
    "    for iterable in nested:\n",
    "        yield from iterable\n",
    "\n",
    "def groupbykey(iterable):\n",
    "    result = {}\n",
    "    for k, v in iterable:\n",
    "        result.setdefault(k, []).append(v)\n",
    "    return result.items()\n",
    "\n",
    "def RECORDREADER():\n",
    "    yield [((0, i, j), small_mat[i, j]) for i in range(I) for j in range(J)]\n",
    "    yield [((1, j, k), big_mat[j, k]) for j in range(J) for k in range(K)]\n",
    "\n",
    "def MAP_JOIN(k1, v1):\n",
    "    mat_num, i, j = k1\n",
    "    yield j if mat_num == 0 else i, (mat_num, i if mat_num == 0 else j, v1)\n",
    "\n",
    "def REDUCE_JOIN(key, values):\n",
    "    first_mat = [v for v in values if v[0] == 0]\n",
    "    second_mat = [v for v in values if v[0] == 1]\n",
    "    for f in first_mat:\n",
    "        for s in second_mat:\n",
    "            yield (f[1], s[1]), f[2] * s[2]\n",
    "\n",
    "def MAP_MUL(k1, v1):\n",
    "    yield k1, v1\n",
    "\n",
    "def REDUCE_MUL(key, values):\n",
    "    yield key, sum(values)\n",
    "\n",
    "def asmatrix(reduce_output):\n",
    "    reduce_output = list(reduce_output)\n",
    "    I_max = max(i for ((i, _), _) in reduce_output) + 1\n",
    "    K_max = max(k for ((_, k), _) in reduce_output) + 1\n",
    "    mat = np.zeros((I_max, K_max))\n",
    "    for (i, k), value in reduce_output:\n",
    "        mat[i, k] = value\n",
    "    return mat\n",
    "\n",
    "def MapReduce(RECORDREADER, MAP, REDUCE):\n",
    "    mapped = flatten(map(lambda kv: MAP(*kv), flatten(RECORDREADER())))\n",
    "    reduced = flatten(map(lambda kv: REDUCE(*kv), groupbykey(mapped)))\n",
    "    return reduced\n",
    "\n",
    "intermediate = MapReduce(RECORDREADER, MAP_JOIN, REDUCE_JOIN)\n",
    "solution = MapReduce(lambda: [intermediate], MAP_MUL, REDUCE_MUL)\n",
    "\n",
    "assert np.allclose(reference_solution, asmatrix(solution)), \"Результат неверный!\"\n",
    "print(\"MapReduce успешно выполнен!\")"
   ],
   "outputs": [
    {
     "name": "stdout",
     "output_type": "stream",
     "text": [
      "MapReduce успешно выполнен!\n"
     ]
    }
   ],
   "execution_count": 177
  },
  {
   "cell_type": "markdown",
   "metadata": {
    "id": "mXyzQi1DaIwo"
   },
   "source": [
    "Реализуйте перемножение матриц с использованием модельного кода MapReduce Distributed, когда каждая матрица генерируется в своём RECORDREADER. "
   ]
  },
  {
   "cell_type": "code",
   "metadata": {
    "id": "TDM_s78Rb5eR",
    "ExecuteTime": {
     "end_time": "2025-02-27T17:58:58.137147Z",
     "start_time": "2025-02-27T17:58:58.123148Z"
    }
   },
   "source": [
    "import numpy as np\n",
    "from collections import defaultdict\n",
    "\n",
    "I, J, K = 2, 3, 40\n",
    "\n",
    "maps = 4\n",
    "reducers = 2\n",
    "\n",
    "small_mat = np.random.rand(I, J)\n",
    "big_mat = np.random.rand(J, K)\n",
    "\n",
    "reference_solution = np.matmul(small_mat, big_mat)\n",
    "\n",
    "def flatten(nested_iterable):\n",
    "    for iterable in nested_iterable:\n",
    "        yield from iterable\n",
    "\n",
    "def group_by_key(iterable):\n",
    "    t = {}\n",
    "    for (k2, v2) in iterable:\n",
    "        t[k2] = t.get(k2, []) + [v2]\n",
    "    return t.items()\n",
    "\n",
    "def groupbykey_distributed(map_partitions, PARTITIONER):\n",
    "    partitions = defaultdict(dict)\n",
    "    for map_partition in map_partitions:\n",
    "        for k2, v2 in map_partition:\n",
    "            partitions[PARTITIONER(k2)][k2] = partitions[PARTITIONER(k2)].get(k2, []) + [v2]\n",
    "    return [(partition_id, sorted(partition.items(), key=lambda x: x[0])) for partition_id, partition in partitions.items()]\n",
    "\n",
    "def PARTITIONER(obj):\n",
    "    global reducers\n",
    "    return hash(obj) % reducers\n",
    "\n",
    "def MapReduceDistributed(INPUTFORMAT, MAP, REDUCE, PARTITIONER=PARTITIONER, COMBINER=None):\n",
    "    map_partitions = map(lambda record_reader: flatten(map(lambda k1v1: MAP(*k1v1), record_reader)), INPUTFORMAT())\n",
    "\n",
    "    if COMBINER:\n",
    "        map_partitions = map(lambda map_partition: flatten(map(lambda k2v2: COMBINER(*k2v2), groupbykey(map_partition))), map_partitions)\n",
    "\n",
    "    reduce_partitions = groupbykey_distributed(map_partitions, PARTITIONER)\n",
    "\n",
    "    reduce_outputs = map(lambda reduce_partition: (reduce_partition[0], flatten(map(lambda reduce_input_group: REDUCE(*reduce_input_group), reduce_partition[1]))), reduce_partitions)\n",
    "\n",
    "    print(f\"{sum(len(vs) for _, vs in flatten([partition for _, partition in reduce_partitions]))} key-value pairs were sent over a network.\")\n",
    "    return reduce_outputs\n",
    "\n",
    "def asmatrix(reduce_output):\n",
    "    reduce_output = list(reduce_output)\n",
    "    I_max = max(i for ((i, _), _) in reduce_output) + 1\n",
    "    K_max = max(k for ((_, k), _) in reduce_output) + 1\n",
    "    mat = np.zeros((I_max, K_max))\n",
    "    for (i, k), value in reduce_output:\n",
    "        mat[i, k] = value\n",
    "    return mat\n",
    "\n",
    "def INPUTFORMAT():\n",
    "    first_mat = [((0, i, j), val) for i in range(small_mat.shape[0]) for j in range(small_mat.shape[1]) for val in [small_mat[i, j]]]\n",
    "    second_mat = [((1, j, k), val) for j in range(big_mat.shape[0]) for k in range(big_mat.shape[1]) for val in [big_mat[j, k]]]\n",
    "    yield first_mat\n",
    "    yield second_mat\n",
    "\n",
    "def MAP_JOIN(k1, v1):\n",
    "    mat_num, i, j = k1\n",
    "    if mat_num == 0:\n",
    "        yield j, (mat_num, i, v1)\n",
    "    else:\n",
    "        yield i, (mat_num, j, v1)\n",
    "\n",
    "def REDUCE_JOIN(key, values):\n",
    "    from_first_mat = [v for v in values if v[0] == 0]\n",
    "    from_second_mat = [v for v in values if v[0] == 1]\n",
    "    for f in from_first_mat:\n",
    "        for s in from_second_mat:\n",
    "            yield (f[1], s[1]), f[2] * s[2]\n",
    "\n",
    "def GET_JOINED():\n",
    "    for j in joined:\n",
    "        yield j[1]\n",
    "\n",
    "def MAP_MUL(k1, v1):\n",
    "    yield k1, v1\n",
    "\n",
    "def REDUCE_MUL(key, values):\n",
    "    yield key, sum(values)\n",
    "\n",
    "\n",
    "partitioned_output = MapReduceDistributed(INPUTFORMAT, MAP_JOIN, REDUCE_JOIN)\n",
    "joined = [(partition_id, list(partition)) for partition_id, partition in partitioned_output]\n",
    "print(joined)\n",
    "\n",
    "mul_output = MapReduceDistributed(GET_JOINED, MAP_MUL, REDUCE_MUL)\n",
    "pre_result = [(partition_id, list(partition)) for partition_id, partition in mul_output]\n",
    "print(pre_result)\n",
    "\n",
    "solution = [v for p in pre_result for v in p[1]]\n",
    "print(solution)\n",
    "\n",
    "assert np.allclose(reference_solution, asmatrix(solution)), \"Результат неверный!\"\n",
    "print(\"MapReduce успешно выполнен!\")\n"
   ],
   "outputs": [
    {
     "name": "stdout",
     "output_type": "stream",
     "text": [
      "126 key-value pairs were sent over a network.\n",
      "[(0, [((0, 0), np.float64(0.06107093757285539)), ((0, 1), np.float64(0.15807310553239698)), ((0, 2), np.float64(0.03640767945461294)), ((0, 3), np.float64(0.24082081236598482)), ((0, 4), np.float64(0.2068187127378646)), ((0, 5), np.float64(0.136203093236136)), ((0, 6), np.float64(0.12895328390372102)), ((0, 7), np.float64(0.16547576462914718)), ((0, 8), np.float64(0.17689740136436774)), ((0, 9), np.float64(0.1947318133254978)), ((0, 10), np.float64(0.041373483238183725)), ((0, 11), np.float64(0.09892765470439939)), ((0, 12), np.float64(0.05781142590887277)), ((0, 13), np.float64(0.05804359123403802)), ((0, 14), np.float64(0.07531948375320476)), ((0, 15), np.float64(0.12856520900412904)), ((0, 16), np.float64(0.06296057124358993)), ((0, 17), np.float64(0.0927843430250817)), ((0, 18), np.float64(0.1366205468772308)), ((0, 19), np.float64(0.18307792319126745)), ((0, 20), np.float64(0.022651717214353773)), ((0, 21), np.float64(0.10541850238220102)), ((0, 22), np.float64(0.05313625319119091)), ((0, 23), np.float64(0.1480960549326156)), ((0, 24), np.float64(0.09175826777692209)), ((0, 25), np.float64(0.2331609460002842)), ((0, 26), np.float64(0.23402667933027219)), ((0, 27), np.float64(0.014462928867498127)), ((0, 28), np.float64(0.010332959771997455)), ((0, 29), np.float64(0.11713543741255687)), ((0, 30), np.float64(0.06514208282222883)), ((0, 31), np.float64(0.09676891848377837)), ((0, 32), np.float64(0.19022281986759512)), ((0, 33), np.float64(0.1284069752925147)), ((0, 34), np.float64(0.13131660181482252)), ((0, 35), np.float64(0.06629809044919124)), ((0, 36), np.float64(0.08943016486616553)), ((0, 37), np.float64(0.06054238190681413)), ((0, 38), np.float64(0.16960490419694557)), ((0, 39), np.float64(0.0629453386753329)), ((1, 0), np.float64(0.1315480611339002)), ((1, 1), np.float64(0.34049273478722153)), ((1, 2), np.float64(0.07842289365420883)), ((1, 3), np.float64(0.5187330047069211)), ((1, 4), np.float64(0.44549177969338816)), ((1, 5), np.float64(0.2933842765108837)), ((1, 6), np.float64(0.2777680374424739)), ((1, 7), np.float64(0.3564382154055763)), ((1, 8), np.float64(0.38104065688114025)), ((1, 9), np.float64(0.4194563486682707)), ((1, 10), np.float64(0.08911933758747627)), ((1, 11), np.float64(0.21309221187840424)), ((1, 12), np.float64(0.12452700567476753)), ((1, 13), np.float64(0.1250270945812392)), ((1, 14), np.float64(0.1622397239524994)), ((1, 15), np.float64(0.27693211609191076)), ((1, 16), np.float64(0.13561837109666963)), ((1, 17), np.float64(0.19985939161276803)), ((1, 18), np.float64(0.2942834802775493)), ((1, 19), np.float64(0.3943536285733545)), ((1, 20), np.float64(0.0487922668183512)), ((1, 21), np.float64(0.22707363186416527)), ((1, 22), np.float64(0.11445658706127447)), ((1, 23), np.float64(0.3190019616896195)), ((1, 24), np.float64(0.19764920433159425)), ((1, 25), np.float64(0.5022334943178655)), ((1, 26), np.float64(0.5040983017949581)), ((1, 27), np.float64(0.031153447555430057)), ((1, 28), np.float64(0.02225740880691868)), ((1, 29), np.float64(0.2523121519677157)), ((1, 30), np.float64(0.1403173921026719)), ((1, 31), np.float64(0.2084422494640653)), ((1, 32), np.float64(0.4097438836132692)), ((1, 33), np.float64(0.27659127740830525)), ((1, 34), np.float64(0.2828586730443514)), ((1, 35), np.float64(0.14280745641192688)), ((1, 36), np.float64(0.1926344225679303)), ((1, 37), np.float64(0.13040954131035698)), ((1, 38), np.float64(0.3653324673342806)), ((1, 39), np.float64(0.13558555982996998)), ((0, 0), np.float64(0.27166408249912377)), ((0, 1), np.float64(0.8766653080421678)), ((0, 2), np.float64(0.07350405399688356)), ((0, 3), np.float64(0.36137980417907156)), ((0, 4), np.float64(0.3375579650600857)), ((0, 5), np.float64(0.3296609446910567)), ((0, 6), np.float64(0.38389019198699137)), ((0, 7), np.float64(0.7519812943719492)), ((0, 8), np.float64(0.0879782603860704)), ((0, 9), np.float64(0.7049663562469214)), ((0, 10), np.float64(0.5605766281421911)), ((0, 11), np.float64(0.20018145764869807)), ((0, 12), np.float64(0.26785734043453013)), ((0, 13), np.float64(0.03387602570985883)), ((0, 14), np.float64(0.12808974828892042)), ((0, 15), np.float64(0.1856738774212991)), ((0, 16), np.float64(0.3647109716215982)), ((0, 17), np.float64(0.642669539287499)), ((0, 18), np.float64(0.8683289988067898)), ((0, 19), np.float64(0.1682105637619335)), ((0, 20), np.float64(0.27910518042009574)), ((0, 21), np.float64(0.6887014796755931)), ((0, 22), np.float64(0.6616977349607782)), ((0, 23), np.float64(0.30185017170478345)), ((0, 24), np.float64(0.5008206744605783)), ((0, 25), np.float64(0.3370507719713157)), ((0, 26), np.float64(0.5611149957749149)), ((0, 27), np.float64(0.10228493676402704)), ((0, 28), np.float64(0.2555864285360557)), ((0, 29), np.float64(0.26991611312288477)), ((0, 30), np.float64(0.4444005348542745)), ((0, 31), np.float64(0.20758060646699386)), ((0, 32), np.float64(0.5234391231857874)), ((0, 33), np.float64(0.11963470193616092)), ((0, 34), np.float64(0.8541573585205856)), ((0, 35), np.float64(0.707944808014189)), ((0, 36), np.float64(0.4779141114371981)), ((0, 37), np.float64(0.10620194544402589)), ((0, 38), np.float64(0.5504234954390668)), ((0, 39), np.float64(0.8649320408741153)), ((1, 0), np.float64(0.2756456311436081)), ((1, 1), np.float64(0.8895138433980075)), ((1, 2), np.float64(0.07458134019483482)), ((1, 3), np.float64(0.36667623960121776)), ((1, 4), np.float64(0.34250526411359317)), ((1, 5), np.float64(0.3344925038555935)), ((1, 6), np.float64(0.3895165429549799)), ((1, 7), np.float64(0.7630024425330938)), ((1, 8), np.float64(0.08926768267613476)), ((1, 9), np.float64(0.7152984465781158)), ((1, 10), np.float64(0.5687925214372364)), ((1, 11), np.float64(0.20311534645733237)), ((1, 12), np.float64(0.2717830969088912)), ((1, 13), np.float64(0.03437251771205806)), ((1, 14), np.float64(0.12996705042978676)), ((1, 15), np.float64(0.18839514100595173)), ((1, 16), np.float64(0.37005622912244296)), ((1, 17), np.float64(0.6520885983307931)), ((1, 18), np.float64(0.8810553559915929)), ((1, 19), np.float64(0.17067588245983845)), ((1, 20), np.float64(0.2831957868872712)), ((1, 21), np.float64(0.6987951895898052)), ((1, 22), np.float64(0.6713956740311741)), ((1, 23), np.float64(0.30627413210077153)), ((1, 24), np.float64(0.508160775732651)), ((1, 25), np.float64(0.3419906375285122)), ((1, 26), np.float64(0.5693387794649604)), ((1, 27), np.float64(0.10378403980178433)), ((1, 28), np.float64(0.25933234072556866)), ((1, 29), np.float64(0.2738720432717751)), ((1, 30), np.float64(0.45091373428380477)), ((1, 31), np.float64(0.21062293828611675)), ((1, 32), np.float64(0.531110723760358)), ((1, 33), np.float64(0.1213880856773802)), ((1, 34), np.float64(0.8666760140664653)), ((1, 35), np.float64(0.7183205509714043)), ((1, 36), np.float64(0.4849184907613543)), ((1, 37), np.float64(0.10775845673559728)), ((1, 38), np.float64(0.5584905829318156)), ((1, 39), np.float64(0.8776086117451452))]), (1, [((0, 0), np.float64(0.024333402781089863)), ((0, 1), np.float64(0.509999439843719)), ((0, 2), np.float64(0.042003685545084934)), ((0, 3), np.float64(0.5888807436559093)), ((0, 4), np.float64(0.43992982763092253)), ((0, 5), np.float64(0.023987211594816423)), ((0, 6), np.float64(0.12024194400915227)), ((0, 7), np.float64(0.6964490133098883)), ((0, 8), np.float64(0.08419241579261545)), ((0, 9), np.float64(0.42711103966450054)), ((0, 10), np.float64(0.72522795232632)), ((0, 11), np.float64(0.5361640932723087)), ((0, 12), np.float64(0.10817677520467923)), ((0, 13), np.float64(0.22647241769786794)), ((0, 14), np.float64(0.24702748134839872)), ((0, 15), np.float64(0.44336091414621676)), ((0, 16), np.float64(0.10465018347607583)), ((0, 17), np.float64(0.6475746827337319)), ((0, 18), np.float64(0.27660887038018744)), ((0, 19), np.float64(0.37427935023826997)), ((0, 20), np.float64(0.5838022968992947)), ((0, 21), np.float64(0.3556298303533519)), ((0, 22), np.float64(0.35652177065145285)), ((0, 23), np.float64(0.5476676371752928)), ((0, 24), np.float64(0.4525593367956914)), ((0, 25), np.float64(0.691295487074578)), ((0, 26), np.float64(0.647180816528541)), ((0, 27), np.float64(0.6709340039426013)), ((0, 28), np.float64(0.4039680429615141)), ((0, 29), np.float64(0.31913673826893274)), ((0, 30), np.float64(0.6674476881711502)), ((0, 31), np.float64(0.30548569426883515)), ((0, 32), np.float64(0.2913447961237351)), ((0, 33), np.float64(0.21775829192195695)), ((0, 34), np.float64(0.30704423824821175)), ((0, 35), np.float64(0.12765919314907903)), ((0, 36), np.float64(0.5979065160701261)), ((0, 37), np.float64(0.19705681727724378)), ((0, 38), np.float64(0.5039523753201045)), ((0, 39), np.float64(0.2136775458154207)), ((1, 0), np.float64(0.020204063520320212)), ((1, 1), np.float64(0.4234533563032041)), ((1, 2), np.float64(0.034875727758879524)), ((1, 3), np.float64(0.48894862990405424)), ((1, 4), np.float64(0.3652744444293697)), ((1, 5), np.float64(0.019916620420784653)), ((1, 6), np.float64(0.09983707977149958)), ((1, 7), np.float64(0.5782627374463363)), ((1, 8), np.float64(0.0699050984322311)), ((1, 9), np.float64(0.3546309841350135)), ((1, 10), np.float64(0.6021579368628055)), ((1, 11), np.float64(0.445177910185541)), ((1, 12), np.float64(0.08981935068108253)), ((1, 13), np.float64(0.18804041316918013)), ((1, 14), np.float64(0.20510731562403475)), ((1, 15), np.float64(0.36812328108909864)), ((1, 16), np.float64(0.08689121588892307)), ((1, 17), np.float64(0.5376823020523529)), ((1, 18), np.float64(0.22966879058067435)), ((1, 19), np.float64(0.3107647473141235)), ((1, 20), np.float64(0.4847319873827321)), ((1, 21), np.float64(0.29528002091691047)), ((1, 22), np.float64(0.2960206003829755)), ((1, 23), np.float64(0.45472932121570314)), ((1, 24), np.float64(0.3757607462298624)), ((1, 25), np.float64(0.5739837563129306)), ((1, 26), np.float64(0.5373552743078253)), ((1, 27), np.float64(0.5570775840744107)), ((1, 28), np.float64(0.335415316698601)), ((1, 29), np.float64(0.2649797477837389)), ((1, 30), np.float64(0.5541828904743429)), ((1, 31), np.float64(0.25364526396419707)), ((1, 32), np.float64(0.2419040534591045)), ((1, 33), np.float64(0.1808050605025409)), ((1, 34), np.float64(0.25493932554045173)), ((1, 35), np.float64(0.10599563367854213)), ((1, 36), np.float64(0.4964427432764144)), ((1, 37), np.float64(0.16361659276340826)), ((1, 38), np.float64(0.41843246888989394)), ((1, 39), np.float64(0.17741681043786725))])]\n",
      "240 key-value pairs were sent over a network.\n",
      "[(1, [((0, 0), np.float64(0.357068422853069)), ((0, 3), np.float64(1.1910813602009656)), ((0, 6), np.float64(0.6330854198998646)), ((0, 7), np.float64(1.6139060723109846)), ((0, 10), np.float64(1.3271780637066948)), ((0, 13), np.float64(0.3183920346417648)), ((0, 14), np.float64(0.45043671339052394)), ((0, 17), np.float64(1.3830285650463126)), ((0, 20), np.float64(0.8855591945337442)), ((0, 21), np.float64(1.149749812411146)), ((0, 24), np.float64(1.0451382790331918)), ((0, 27), np.float64(0.7876818695741264)), ((0, 28), np.float64(0.6698874312695673)), ((0, 30), np.float64(1.1769903058476534)), ((0, 31), np.float64(0.6098352192196074)), ((0, 34), np.float64(1.2925181985836198)), ((0, 35), np.float64(0.9019020916124593)), ((0, 37), np.float64(0.3638011446280838)), ((0, 38), np.float64(1.223980774956117)), ((1, 2), np.float64(0.1878799616079232)), ((1, 5), np.float64(0.6477934007872619)), ((1, 6), np.float64(0.7671216601689534)), ((1, 8), np.float64(0.5402134379895062)), ((1, 9), np.float64(1.4893857793814)), ((1, 12), np.float64(0.4861294532647413)), ((1, 13), np.float64(0.3474400254624774)), ((1, 15), np.float64(0.8334505381869611)), ((1, 16), np.float64(0.5925658161080356)), ((1, 19), np.float64(0.8757942583473164)), ((1, 20), np.float64(0.8167200410883545)), ((1, 22), np.float64(1.081872861475424)), ((1, 23), np.float64(1.080005415006094)), ((1, 26), np.float64(1.6107923555677437)), ((1, 29), np.float64(0.7911639430232297)), ((1, 30), np.float64(1.1454140168608196)), ((1, 33), np.float64(0.5787844235882263)), ((1, 36), np.float64(1.173995656605699)), ((1, 37), np.float64(0.4017845908093625))]), (0, [((0, 1), np.float64(1.5447378534182836)), ((0, 2), np.float64(0.15191541899658145)), ((0, 4), np.float64(0.9843065054288729)), ((0, 5), np.float64(0.48985124952200915)), ((0, 8), np.float64(0.3490680775430536)), ((0, 9), np.float64(1.3268092092369197)), ((0, 11), np.float64(0.8352732056254062)), ((0, 12), np.float64(0.43384554154808214)), ((0, 15), np.float64(0.7576000005716449)), ((0, 16), np.float64(0.532321726341264)), ((0, 18), np.float64(1.281558416064208)), ((0, 19), np.float64(0.7255678371914709)), ((0, 22), np.float64(1.071355758803422)), ((0, 23), np.float64(0.9976138638126918)), ((0, 25), np.float64(1.261507205046178)), ((0, 26), np.float64(1.442322491633728)), ((0, 29), np.float64(0.7061882888043745)), ((0, 32), np.float64(1.0050067391771176)), ((0, 33), np.float64(0.4657999691506326)), ((0, 36), np.float64(1.1652507923734898)), ((0, 39), np.float64(1.141554925364869)), ((1, 0), np.float64(0.42739775579782857)), ((1, 1), np.float64(1.653459934488433)), ((1, 3), np.float64(1.3743578742121931)), ((1, 4), np.float64(1.153271488236351)), ((1, 7), np.float64(1.6977033953850065)), ((1, 10), np.float64(1.2600697958875182)), ((1, 11), np.float64(0.8613854685212776)), ((1, 14), np.float64(0.4973140900063209)), ((1, 17), np.float64(1.389630291995914)), ((1, 18), np.float64(1.4050076268498164)), ((1, 21), np.float64(1.221148842370881)), ((1, 24), np.float64(1.0815707262941077)), ((1, 25), np.float64(1.4182078881593083)), ((1, 27), np.float64(0.6920150714316251)), ((1, 28), np.float64(0.6170050662310883)), ((1, 31), np.float64(0.6727104517143792)), ((1, 32), np.float64(1.1827586608327316)), ((1, 34), np.float64(1.4044740126512685)), ((1, 35), np.float64(0.9671236410618733)), ((1, 38), np.float64(1.3422555191559902)), ((1, 39), np.float64(1.1906109820129824))])]\n",
      "[((0, 0), np.float64(0.357068422853069)), ((0, 3), np.float64(1.1910813602009656)), ((0, 6), np.float64(0.6330854198998646)), ((0, 7), np.float64(1.6139060723109846)), ((0, 10), np.float64(1.3271780637066948)), ((0, 13), np.float64(0.3183920346417648)), ((0, 14), np.float64(0.45043671339052394)), ((0, 17), np.float64(1.3830285650463126)), ((0, 20), np.float64(0.8855591945337442)), ((0, 21), np.float64(1.149749812411146)), ((0, 24), np.float64(1.0451382790331918)), ((0, 27), np.float64(0.7876818695741264)), ((0, 28), np.float64(0.6698874312695673)), ((0, 30), np.float64(1.1769903058476534)), ((0, 31), np.float64(0.6098352192196074)), ((0, 34), np.float64(1.2925181985836198)), ((0, 35), np.float64(0.9019020916124593)), ((0, 37), np.float64(0.3638011446280838)), ((0, 38), np.float64(1.223980774956117)), ((1, 2), np.float64(0.1878799616079232)), ((1, 5), np.float64(0.6477934007872619)), ((1, 6), np.float64(0.7671216601689534)), ((1, 8), np.float64(0.5402134379895062)), ((1, 9), np.float64(1.4893857793814)), ((1, 12), np.float64(0.4861294532647413)), ((1, 13), np.float64(0.3474400254624774)), ((1, 15), np.float64(0.8334505381869611)), ((1, 16), np.float64(0.5925658161080356)), ((1, 19), np.float64(0.8757942583473164)), ((1, 20), np.float64(0.8167200410883545)), ((1, 22), np.float64(1.081872861475424)), ((1, 23), np.float64(1.080005415006094)), ((1, 26), np.float64(1.6107923555677437)), ((1, 29), np.float64(0.7911639430232297)), ((1, 30), np.float64(1.1454140168608196)), ((1, 33), np.float64(0.5787844235882263)), ((1, 36), np.float64(1.173995656605699)), ((1, 37), np.float64(0.4017845908093625)), ((0, 1), np.float64(1.5447378534182836)), ((0, 2), np.float64(0.15191541899658145)), ((0, 4), np.float64(0.9843065054288729)), ((0, 5), np.float64(0.48985124952200915)), ((0, 8), np.float64(0.3490680775430536)), ((0, 9), np.float64(1.3268092092369197)), ((0, 11), np.float64(0.8352732056254062)), ((0, 12), np.float64(0.43384554154808214)), ((0, 15), np.float64(0.7576000005716449)), ((0, 16), np.float64(0.532321726341264)), ((0, 18), np.float64(1.281558416064208)), ((0, 19), np.float64(0.7255678371914709)), ((0, 22), np.float64(1.071355758803422)), ((0, 23), np.float64(0.9976138638126918)), ((0, 25), np.float64(1.261507205046178)), ((0, 26), np.float64(1.442322491633728)), ((0, 29), np.float64(0.7061882888043745)), ((0, 32), np.float64(1.0050067391771176)), ((0, 33), np.float64(0.4657999691506326)), ((0, 36), np.float64(1.1652507923734898)), ((0, 39), np.float64(1.141554925364869)), ((1, 0), np.float64(0.42739775579782857)), ((1, 1), np.float64(1.653459934488433)), ((1, 3), np.float64(1.3743578742121931)), ((1, 4), np.float64(1.153271488236351)), ((1, 7), np.float64(1.6977033953850065)), ((1, 10), np.float64(1.2600697958875182)), ((1, 11), np.float64(0.8613854685212776)), ((1, 14), np.float64(0.4973140900063209)), ((1, 17), np.float64(1.389630291995914)), ((1, 18), np.float64(1.4050076268498164)), ((1, 21), np.float64(1.221148842370881)), ((1, 24), np.float64(1.0815707262941077)), ((1, 25), np.float64(1.4182078881593083)), ((1, 27), np.float64(0.6920150714316251)), ((1, 28), np.float64(0.6170050662310883)), ((1, 31), np.float64(0.6727104517143792)), ((1, 32), np.float64(1.1827586608327316)), ((1, 34), np.float64(1.4044740126512685)), ((1, 35), np.float64(0.9671236410618733)), ((1, 38), np.float64(1.3422555191559902)), ((1, 39), np.float64(1.1906109820129824))]\n",
      "MapReduce успешно выполнен!\n"
     ]
    }
   ],
   "execution_count": 178
  },
  {
   "cell_type": "markdown",
   "metadata": {
    "id": "ZuSA2P9Db6UM"
   },
   "source": [
    "Обобщите предыдущее решение на случай, когда каждая матрица генерируется несколькими RECORDREADER-ами, и проверьте его работоспособность. Будет ли работать решение, если RECORDREADER-ы будут генерировать случайное подмножество элементов матрицы?"
   ]
  },
  {
   "cell_type": "code",
   "metadata": {
    "id": "ehN0FqRDcwU5",
    "ExecuteTime": {
     "end_time": "2025-02-27T17:58:58.182148Z",
     "start_time": "2025-02-27T17:58:58.153146Z"
    }
   },
   "source": [
    "I, J, K = 2, 3, 40\n",
    "\n",
    "maps = 3\n",
    "reducers = 2\n",
    "\n",
    "small_mat = np.random.rand(I, J)\n",
    "big_mat = np.random.rand(J, K)\n",
    "\n",
    "reference_solution = np.matmul(small_mat, big_mat)\n",
    "\n",
    "def flatten(nested_iterable):\n",
    "  for iterable in nested_iterable:\n",
    "    for element in iterable:\n",
    "      yield element\n",
    "\n",
    "def groupbykey(iterable):\n",
    "  t = {}\n",
    "  for (k2, v2) in iterable:\n",
    "    t[k2] = t.get(k2, []) + [v2]\n",
    "  return t.items()\n",
    "\n",
    "def groupbykey_distributed(map_partitions, PARTITIONER):\n",
    "  global reducers\n",
    "  partitions = [dict() for _ in range(reducers)]\n",
    "  for map_partition in map_partitions:\n",
    "    for (k2, v2) in map_partition:\n",
    "      p = partitions[PARTITIONER(k2)]\n",
    "      p[k2] = p.get(k2, []) + [v2]\n",
    "  return [(partition_id, sorted(partition.items(), key=lambda x: x[0])) for (partition_id, partition) in enumerate(partitions)]\n",
    "\n",
    "def PARTITIONER(obj):\n",
    "  global reducers\n",
    "  return hash(obj) % reducers\n",
    "\n",
    "def MapReduceDistributed(INPUTFORMAT, MAP, REDUCE, PARTITIONER=PARTITIONER, COMBINER=None):\n",
    "  map_partitions = map(lambda record_reader: flatten(map(lambda k1v1: MAP(*k1v1), record_reader)), INPUTFORMAT())\n",
    "\n",
    "  if COMBINER != None:\n",
    "    map_partitions = map(lambda map_partition: flatten(map(lambda k2v2: COMBINER(*k2v2), groupbykey(map_partition))), map_partitions)\n",
    "\n",
    "  reduce_partitions = groupbykey_distributed(map_partitions, PARTITIONER)\n",
    "\n",
    "  reduce_outputs = map(lambda reduce_partition: (reduce_partition[0], flatten(map(lambda reduce_input_group: REDUCE(*reduce_input_group), reduce_partition[1]))), reduce_partitions)\n",
    "\n",
    "  print(\"{} key-value pairs were sent over a network.\".format(sum([len(vs) for (k,vs) in flatten([partition for (partition_id, partition) in reduce_partitions])])))\n",
    "  return reduce_outputs\n",
    "\n",
    "def asmatrix(reduce_output):\n",
    "  reduce_output = list(reduce_output)\n",
    "  I = max(i for ((i,k), vw) in reduce_output) + 1\n",
    "  K = max(k for ((i,k), vw) in reduce_output) + 1\n",
    "  mat = np.empty(shape=(I,K))\n",
    "  for ((i,k), vw) in reduce_output:\n",
    "    mat[i,k] = vw\n",
    "  return mat\n",
    "\n",
    "def INPUTFORMAT():\n",
    "  first_mat = []\n",
    "\n",
    "  for i in range(small_mat.shape[0]):\n",
    "    for j in range(small_mat.shape[1]):\n",
    "      first_mat.append(((0, i, j), small_mat[i,j]))  # первая матрица\n",
    "\n",
    "  global maps\n",
    "  split_size = int(np.ceil(len(first_mat)/maps))\n",
    "\n",
    "  for i in range(0, len(first_mat), split_size):\n",
    "    yield first_mat[i:i+split_size]\n",
    "\n",
    "  second_mat = []\n",
    "\n",
    "  for j in range(big_mat.shape[0]):\n",
    "    for k in range(big_mat.shape[1]):\n",
    "      second_mat.append(((1, j, k), big_mat[j,k]))  # вторая матрица\n",
    "\n",
    "  split_size = int(np.ceil(len(second_mat)/maps))\n",
    "\n",
    "  for i in range(0, len(second_mat), split_size):\n",
    "    yield second_mat[i:i+split_size]\n",
    "\n",
    "def MAP_JOIN(k1, v1):\n",
    "  (mat_num, i, j) = k1\n",
    "  w = v1\n",
    "  if mat_num == 0:\n",
    "    yield (j, (mat_num, i, w))\n",
    "  else:\n",
    "    yield (i, (mat_num, j, w))\n",
    "\n",
    "def REDUCE_JOIN(key, values):\n",
    "  from_first_mat = [v for v in values if v[0] == 0]\n",
    "  from_second_mat = [v for v in values if v[0] == 1]\n",
    "\n",
    "  for f in from_first_mat:\n",
    "    for s in from_second_mat:\n",
    "      yield ((f[1], s[1]), f[2] * s[2])\n",
    "\n",
    "def GET_JOINED():\n",
    "  for j in joined:\n",
    "    print(\"aa\", j)\n",
    "    yield j[1]\n",
    "\n",
    "def MAP_MUL(k1, v1):\n",
    "  yield (k1, v1)\n",
    "\n",
    "def REDUCE_MUL(key, values):\n",
    "  res_val = 0\n",
    "\n",
    "  for v in values:\n",
    "    res_val += v\n",
    "  yield (key, res_val)\n",
    "\n",
    "\n",
    "partitioned_output = MapReduceDistributed(INPUTFORMAT, MAP_JOIN, REDUCE_JOIN, COMBINER=None)\n",
    "joined = [(partition_id, list(partition)) for (partition_id, partition) in partitioned_output]\n",
    "print(joined)\n",
    "\n",
    "mul_output = MapReduceDistributed(GET_JOINED, MAP_MUL, REDUCE_MUL, COMBINER=None)\n",
    "pre_result = [(partition_id, list(partition)) for (partition_id, partition) in mul_output]\n",
    "print(pre_result)\n",
    "\n",
    "solution = [v for p in pre_result for v in p[1]]\n",
    "\n",
    "print(solution)\n",
    "\n",
    "assert np.allclose(reference_solution, asmatrix(solution)), \"Результат неверный!\"\n",
    "print(\"MapReduce успешно выполнен!\")"
   ],
   "outputs": [
    {
     "name": "stdout",
     "output_type": "stream",
     "text": [
      "126 key-value pairs were sent over a network.\n",
      "[(0, [((0, 0), np.float64(0.6697308509308915)), ((0, 1), np.float64(0.48772623611276755)), ((0, 2), np.float64(0.19479281300505366)), ((0, 3), np.float64(0.5971374587950451)), ((0, 4), np.float64(0.5447487356266695)), ((0, 5), np.float64(0.40020937840843035)), ((0, 6), np.float64(0.4239067492165266)), ((0, 7), np.float64(0.31675184793482575)), ((0, 8), np.float64(0.6162437766888021)), ((0, 9), np.float64(0.002128008825899057)), ((0, 10), np.float64(0.1419883012167619)), ((0, 11), np.float64(0.25824977669459287)), ((0, 12), np.float64(0.1430649873255834)), ((0, 13), np.float64(0.5220653420787928)), ((0, 14), np.float64(0.4025605991033869)), ((0, 15), np.float64(0.3607847365593121)), ((0, 16), np.float64(0.11774114150013795)), ((0, 17), np.float64(0.7468468109256213)), ((0, 18), np.float64(0.7684520775359011)), ((0, 19), np.float64(0.23393712652800375)), ((0, 20), np.float64(0.34969374462022135)), ((0, 21), np.float64(0.7338545829026165)), ((0, 22), np.float64(0.6948440084359885)), ((0, 23), np.float64(0.32522570334769835)), ((0, 24), np.float64(0.04146730595428268)), ((0, 25), np.float64(0.6468338245978189)), ((0, 26), np.float64(0.3164769366251728)), ((0, 27), np.float64(0.37054379317718616)), ((0, 28), np.float64(0.04221132602080905)), ((0, 29), np.float64(0.5667802593823016)), ((0, 30), np.float64(0.6318351026407772)), ((0, 31), np.float64(0.3943658514824062)), ((0, 32), np.float64(0.34589770099411155)), ((0, 33), np.float64(0.4527227799013759)), ((0, 34), np.float64(0.7400167771687389)), ((0, 35), np.float64(0.5092430410214376)), ((0, 36), np.float64(0.5204893074340249)), ((0, 37), np.float64(0.6077630071892153)), ((0, 38), np.float64(0.21606038353574872)), ((0, 39), np.float64(0.23117777047035928)), ((1, 0), np.float64(0.530889364281036)), ((1, 1), np.float64(0.38661601309420346)), ((1, 2), np.float64(0.15441043595203696)), ((1, 3), np.float64(0.47334526317170794)), ((1, 4), np.float64(0.4318172136579429)), ((1, 5), np.float64(0.31724222079249004)), ((1, 6), np.float64(0.33602690437986804)), ((1, 7), np.float64(0.2510862191150803)), ((1, 8), np.float64(0.4884906621723204)), ((1, 9), np.float64(0.0016868526381839915)), ((1, 10), np.float64(0.11255279469885031)), ((1, 11), np.float64(0.20471217592044186)), ((1, 12), np.float64(0.11340627367932132)), ((1, 13), np.float64(0.4138363003348811)), ((1, 14), np.float64(0.319106011385823)), ((1, 15), np.float64(0.28599067695335806)), ((1, 16), np.float64(0.0933322986000264)), ((1, 17), np.float64(0.5920184625159751)), ((1, 18), np.float64(0.6091447547271089)), ((1, 19), np.float64(0.18543976615615043)), ((1, 20), np.float64(0.27719895166310776)), ((1, 21), np.float64(0.5817196452132629)), ((1, 22), np.float64(0.5507963287047879)), ((1, 23), np.float64(0.25780336482652005)), ((1, 24), np.float64(0.03287074451761816)), ((1, 25), np.float64(0.5127391062527621)), ((1, 26), np.float64(0.25086829949824846)), ((1, 27), np.float64(0.29372658960639547)), ((1, 28), np.float64(0.03346052224636024)), ((1, 29), np.float64(0.4492813959104295)), ((1, 30), np.float64(0.5008497600269848)), ((1, 31), np.float64(0.3126101118033281)), ((1, 32), np.float64(0.27418986348291213)), ((1, 33), np.float64(0.3588691016448124)), ((1, 34), np.float64(0.5866043588142129)), ((1, 35), np.float64(0.40367218254413323)), ((1, 36), np.float64(0.41258699245324054)), ((1, 37), np.float64(0.4817680357291879)), ((1, 38), np.float64(0.17126903964805792)), ((1, 39), np.float64(0.1832524504886226)), ((0, 0), np.float64(0.5253957742829866)), ((0, 1), np.float64(0.07657578615120546)), ((0, 2), np.float64(0.6669259675298013)), ((0, 3), np.float64(0.10749522169000758)), ((0, 4), np.float64(0.2205124090282467)), ((0, 5), np.float64(0.8440731930649638)), ((0, 6), np.float64(0.6773304717719407)), ((0, 7), np.float64(0.7147227234062757)), ((0, 8), np.float64(0.5703841929481994)), ((0, 9), np.float64(0.8641088295937289)), ((0, 10), np.float64(0.343832076045537)), ((0, 11), np.float64(0.5739602192888311)), ((0, 12), np.float64(0.048810184957669096)), ((0, 13), np.float64(0.40056081620427725)), ((0, 14), np.float64(0.562895919103351)), ((0, 15), np.float64(0.37327652565779573)), ((0, 16), np.float64(0.5782326230318214)), ((0, 17), np.float64(0.49533218459563744)), ((0, 18), np.float64(0.5087183251887328)), ((0, 19), np.float64(0.7450246660278292)), ((0, 20), np.float64(0.2524509256764532)), ((0, 21), np.float64(0.6819097386455285)), ((0, 22), np.float64(0.6053086817519159)), ((0, 23), np.float64(0.7866152300648229)), ((0, 24), np.float64(0.5248791255554196)), ((0, 25), np.float64(0.005759847412329497)), ((0, 26), np.float64(0.0777702811879225)), ((0, 27), np.float64(0.3640179106051294)), ((0, 28), np.float64(0.7935939245194149)), ((0, 29), np.float64(0.07973178660537046)), ((0, 30), np.float64(0.36130675799925255)), ((0, 31), np.float64(0.4368280809572914)), ((0, 32), np.float64(0.8659783861722927)), ((0, 33), np.float64(0.4992191643453698)), ((0, 34), np.float64(0.8734760450730601)), ((0, 35), np.float64(0.5719564117739148)), ((0, 36), np.float64(0.4387646354700531)), ((0, 37), np.float64(0.40745475052443875)), ((0, 38), np.float64(0.7669142254015955)), ((0, 39), np.float64(0.7567109205659802)), ((1, 0), np.float64(0.320428092790361)), ((1, 1), np.float64(0.0467019993524677)), ((1, 2), np.float64(0.40674445107515705)), ((1, 3), np.float64(0.06555912810150206)), ((1, 4), np.float64(0.13448598964838904)), ((1, 5), np.float64(0.5147829058929582)), ((1, 6), np.float64(0.41308994453727665)), ((1, 7), np.float64(0.4358947108920852)), ((1, 8), np.float64(0.3478656054163838)), ((1, 9), np.float64(0.5270022291441101)), ((1, 10), np.float64(0.20969612197162557)), ((1, 11), np.float64(0.35004655044141847)), ((1, 12), np.float64(0.02976832940096439)), ((1, 13), np.float64(0.24429381556798557)), ((1, 14), np.float64(0.3432986609835488)), ((1, 15), np.float64(0.22765368709554337)), ((1, 16), np.float64(0.3526522017427923)), ((1, 17), np.float64(0.3020929268497979)), ((1, 18), np.float64(0.31025685908911366)), ((1, 19), np.float64(0.45437524339221447)), ((1, 20), np.float64(0.15396463503739025)), ((1, 21), np.float64(0.415882745360017)), ((1, 22), np.float64(0.3691653339007352)), ((1, 23), np.float64(0.47974047426152727)), ((1, 24), np.float64(0.3201129993417265)), ((1, 25), np.float64(0.0035128126479794606)), ((1, 26), np.float64(0.047430497344262815)), ((1, 27), np.float64(0.22200704791719308)), ((1, 28), np.float64(0.4839966366893719)), ((1, 29), np.float64(0.04862677921533146)), ((1, 30), np.float64(0.2203535716212516)), ((1, 31), np.float64(0.26641247552750047)), ((1, 32), np.float64(0.5281424333066778)), ((1, 33), np.float64(0.3044635159730568)), ((1, 34), np.float64(0.5327151014923787)), ((1, 35), np.float64(0.3488244693898533)), ((1, 36), np.float64(0.26759354035421257)), ((1, 37), np.float64(0.24849828453054248)), ((1, 38), np.float64(0.46772523611290096)), ((1, 39), np.float64(0.46150245003682966))]), (1, [((0, 0), np.float64(0.22866011093243246)), ((0, 1), np.float64(0.2732152172378963)), ((0, 2), np.float64(0.13156223701706704)), ((0, 3), np.float64(0.018121606281649414)), ((0, 4), np.float64(0.01786095012518756)), ((0, 5), np.float64(0.13173292415407875)), ((0, 6), np.float64(0.07640052201241501)), ((0, 7), np.float64(0.2246985154308446)), ((0, 8), np.float64(0.11397034625522336)), ((0, 9), np.float64(0.2516455893594877)), ((0, 10), np.float64(0.039530305154357306)), ((0, 11), np.float64(0.0972022637422099)), ((0, 12), np.float64(0.29836431971709765)), ((0, 13), np.float64(0.07946449087372405)), ((0, 14), np.float64(0.2816292965115746)), ((0, 15), np.float64(0.09032575274108631)), ((0, 16), np.float64(0.1327787657904944)), ((0, 17), np.float64(0.24419419572744375)), ((0, 18), np.float64(0.015722163765385527)), ((0, 19), np.float64(0.2600247112646205)), ((0, 20), np.float64(0.019486686737323285)), ((0, 21), np.float64(0.12153089789541044)), ((0, 22), np.float64(0.24890769263151202)), ((0, 23), np.float64(0.11349204630599491)), ((0, 24), np.float64(0.09912520652096288)), ((0, 25), np.float64(0.29045736303693376)), ((0, 26), np.float64(0.2708339440774345)), ((0, 27), np.float64(0.13250344730654964)), ((0, 28), np.float64(0.06709127349537988)), ((0, 29), np.float64(0.20289252260827756)), ((0, 30), np.float64(0.2414971174562595)), ((0, 31), np.float64(0.03056633603394493)), ((0, 32), np.float64(0.06883396523054032)), ((0, 33), np.float64(0.24358483176621432)), ((0, 34), np.float64(0.1341329469926055)), ((0, 35), np.float64(0.007653601206300904)), ((0, 36), np.float64(0.1495793793588024)), ((0, 37), np.float64(0.22948389528076346)), ((0, 38), np.float64(0.15154163519148603)), ((0, 39), np.float64(0.11269080142685034)), ((1, 0), np.float64(0.3806132203265871)), ((1, 1), np.float64(0.4547768443350049)), ((1, 2), np.float64(0.2189902143414609)), ((1, 3), np.float64(0.03016408457173891)), ((1, 4), np.float64(0.029730212749039527)), ((1, 5), np.float64(0.21927432940036398)), ((1, 6), np.float64(0.12717149746494372)), ((1, 7), np.float64(0.37401899794410853)), ((1, 8), np.float64(0.18970786086408767)), ((1, 9), np.float64(0.41887340015941305)), ((1, 10), np.float64(0.06579965645926998)), ((1, 11), np.float64(0.1617967667167317)), ((1, 12), np.float64(0.496638456506446)), ((1, 13), np.float64(0.13227158707186173)), ((1, 14), np.float64(0.46878239080036194)), ((1, 15), np.float64(0.15035055956640697)), ((1, 16), np.float64(0.22101517152435568)), ((1, 17), np.float64(0.4064702795860511)), ((1, 18), np.float64(0.02617012366889657)), ((1, 19), np.float64(0.4328207587906001)), ((1, 20), np.float64(0.03243631152955949)), ((1, 21), np.float64(0.20229267898335898)), ((1, 22), np.float64(0.41431606969059165)), ((1, 23), np.float64(0.1889117128905057)), ((1, 24), np.float64(0.16499757616504512)), ((1, 25), np.float64(0.48347703437318507)), ((1, 26), np.float64(0.45081312699757886)), ((1, 27), np.float64(0.22055689371471787)), ((1, 28), np.float64(0.1116759086521829)), ((1, 29), np.float64(0.33772211556802956)), ((1, 30), np.float64(0.4019808929497802)), ((1, 31), np.float64(0.05087879798546121)), ((1, 32), np.float64(0.11457668356500511)), ((1, 33), np.float64(0.40545597071211276)), ((1, 34), np.float64(0.22326925627109814)), ((1, 35), np.float64(0.01273970256704034)), ((1, 36), np.float64(0.24898041481764613)), ((1, 37), np.float64(0.3819844398733385)), ((1, 38), np.float64(0.2522466622997137)), ((1, 39), np.float64(0.18757801112469352))])]\n",
      "aa (0, [((0, 0), np.float64(0.6697308509308915)), ((0, 1), np.float64(0.48772623611276755)), ((0, 2), np.float64(0.19479281300505366)), ((0, 3), np.float64(0.5971374587950451)), ((0, 4), np.float64(0.5447487356266695)), ((0, 5), np.float64(0.40020937840843035)), ((0, 6), np.float64(0.4239067492165266)), ((0, 7), np.float64(0.31675184793482575)), ((0, 8), np.float64(0.6162437766888021)), ((0, 9), np.float64(0.002128008825899057)), ((0, 10), np.float64(0.1419883012167619)), ((0, 11), np.float64(0.25824977669459287)), ((0, 12), np.float64(0.1430649873255834)), ((0, 13), np.float64(0.5220653420787928)), ((0, 14), np.float64(0.4025605991033869)), ((0, 15), np.float64(0.3607847365593121)), ((0, 16), np.float64(0.11774114150013795)), ((0, 17), np.float64(0.7468468109256213)), ((0, 18), np.float64(0.7684520775359011)), ((0, 19), np.float64(0.23393712652800375)), ((0, 20), np.float64(0.34969374462022135)), ((0, 21), np.float64(0.7338545829026165)), ((0, 22), np.float64(0.6948440084359885)), ((0, 23), np.float64(0.32522570334769835)), ((0, 24), np.float64(0.04146730595428268)), ((0, 25), np.float64(0.6468338245978189)), ((0, 26), np.float64(0.3164769366251728)), ((0, 27), np.float64(0.37054379317718616)), ((0, 28), np.float64(0.04221132602080905)), ((0, 29), np.float64(0.5667802593823016)), ((0, 30), np.float64(0.6318351026407772)), ((0, 31), np.float64(0.3943658514824062)), ((0, 32), np.float64(0.34589770099411155)), ((0, 33), np.float64(0.4527227799013759)), ((0, 34), np.float64(0.7400167771687389)), ((0, 35), np.float64(0.5092430410214376)), ((0, 36), np.float64(0.5204893074340249)), ((0, 37), np.float64(0.6077630071892153)), ((0, 38), np.float64(0.21606038353574872)), ((0, 39), np.float64(0.23117777047035928)), ((1, 0), np.float64(0.530889364281036)), ((1, 1), np.float64(0.38661601309420346)), ((1, 2), np.float64(0.15441043595203696)), ((1, 3), np.float64(0.47334526317170794)), ((1, 4), np.float64(0.4318172136579429)), ((1, 5), np.float64(0.31724222079249004)), ((1, 6), np.float64(0.33602690437986804)), ((1, 7), np.float64(0.2510862191150803)), ((1, 8), np.float64(0.4884906621723204)), ((1, 9), np.float64(0.0016868526381839915)), ((1, 10), np.float64(0.11255279469885031)), ((1, 11), np.float64(0.20471217592044186)), ((1, 12), np.float64(0.11340627367932132)), ((1, 13), np.float64(0.4138363003348811)), ((1, 14), np.float64(0.319106011385823)), ((1, 15), np.float64(0.28599067695335806)), ((1, 16), np.float64(0.0933322986000264)), ((1, 17), np.float64(0.5920184625159751)), ((1, 18), np.float64(0.6091447547271089)), ((1, 19), np.float64(0.18543976615615043)), ((1, 20), np.float64(0.27719895166310776)), ((1, 21), np.float64(0.5817196452132629)), ((1, 22), np.float64(0.5507963287047879)), ((1, 23), np.float64(0.25780336482652005)), ((1, 24), np.float64(0.03287074451761816)), ((1, 25), np.float64(0.5127391062527621)), ((1, 26), np.float64(0.25086829949824846)), ((1, 27), np.float64(0.29372658960639547)), ((1, 28), np.float64(0.03346052224636024)), ((1, 29), np.float64(0.4492813959104295)), ((1, 30), np.float64(0.5008497600269848)), ((1, 31), np.float64(0.3126101118033281)), ((1, 32), np.float64(0.27418986348291213)), ((1, 33), np.float64(0.3588691016448124)), ((1, 34), np.float64(0.5866043588142129)), ((1, 35), np.float64(0.40367218254413323)), ((1, 36), np.float64(0.41258699245324054)), ((1, 37), np.float64(0.4817680357291879)), ((1, 38), np.float64(0.17126903964805792)), ((1, 39), np.float64(0.1832524504886226)), ((0, 0), np.float64(0.5253957742829866)), ((0, 1), np.float64(0.07657578615120546)), ((0, 2), np.float64(0.6669259675298013)), ((0, 3), np.float64(0.10749522169000758)), ((0, 4), np.float64(0.2205124090282467)), ((0, 5), np.float64(0.8440731930649638)), ((0, 6), np.float64(0.6773304717719407)), ((0, 7), np.float64(0.7147227234062757)), ((0, 8), np.float64(0.5703841929481994)), ((0, 9), np.float64(0.8641088295937289)), ((0, 10), np.float64(0.343832076045537)), ((0, 11), np.float64(0.5739602192888311)), ((0, 12), np.float64(0.048810184957669096)), ((0, 13), np.float64(0.40056081620427725)), ((0, 14), np.float64(0.562895919103351)), ((0, 15), np.float64(0.37327652565779573)), ((0, 16), np.float64(0.5782326230318214)), ((0, 17), np.float64(0.49533218459563744)), ((0, 18), np.float64(0.5087183251887328)), ((0, 19), np.float64(0.7450246660278292)), ((0, 20), np.float64(0.2524509256764532)), ((0, 21), np.float64(0.6819097386455285)), ((0, 22), np.float64(0.6053086817519159)), ((0, 23), np.float64(0.7866152300648229)), ((0, 24), np.float64(0.5248791255554196)), ((0, 25), np.float64(0.005759847412329497)), ((0, 26), np.float64(0.0777702811879225)), ((0, 27), np.float64(0.3640179106051294)), ((0, 28), np.float64(0.7935939245194149)), ((0, 29), np.float64(0.07973178660537046)), ((0, 30), np.float64(0.36130675799925255)), ((0, 31), np.float64(0.4368280809572914)), ((0, 32), np.float64(0.8659783861722927)), ((0, 33), np.float64(0.4992191643453698)), ((0, 34), np.float64(0.8734760450730601)), ((0, 35), np.float64(0.5719564117739148)), ((0, 36), np.float64(0.4387646354700531)), ((0, 37), np.float64(0.40745475052443875)), ((0, 38), np.float64(0.7669142254015955)), ((0, 39), np.float64(0.7567109205659802)), ((1, 0), np.float64(0.320428092790361)), ((1, 1), np.float64(0.0467019993524677)), ((1, 2), np.float64(0.40674445107515705)), ((1, 3), np.float64(0.06555912810150206)), ((1, 4), np.float64(0.13448598964838904)), ((1, 5), np.float64(0.5147829058929582)), ((1, 6), np.float64(0.41308994453727665)), ((1, 7), np.float64(0.4358947108920852)), ((1, 8), np.float64(0.3478656054163838)), ((1, 9), np.float64(0.5270022291441101)), ((1, 10), np.float64(0.20969612197162557)), ((1, 11), np.float64(0.35004655044141847)), ((1, 12), np.float64(0.02976832940096439)), ((1, 13), np.float64(0.24429381556798557)), ((1, 14), np.float64(0.3432986609835488)), ((1, 15), np.float64(0.22765368709554337)), ((1, 16), np.float64(0.3526522017427923)), ((1, 17), np.float64(0.3020929268497979)), ((1, 18), np.float64(0.31025685908911366)), ((1, 19), np.float64(0.45437524339221447)), ((1, 20), np.float64(0.15396463503739025)), ((1, 21), np.float64(0.415882745360017)), ((1, 22), np.float64(0.3691653339007352)), ((1, 23), np.float64(0.47974047426152727)), ((1, 24), np.float64(0.3201129993417265)), ((1, 25), np.float64(0.0035128126479794606)), ((1, 26), np.float64(0.047430497344262815)), ((1, 27), np.float64(0.22200704791719308)), ((1, 28), np.float64(0.4839966366893719)), ((1, 29), np.float64(0.04862677921533146)), ((1, 30), np.float64(0.2203535716212516)), ((1, 31), np.float64(0.26641247552750047)), ((1, 32), np.float64(0.5281424333066778)), ((1, 33), np.float64(0.3044635159730568)), ((1, 34), np.float64(0.5327151014923787)), ((1, 35), np.float64(0.3488244693898533)), ((1, 36), np.float64(0.26759354035421257)), ((1, 37), np.float64(0.24849828453054248)), ((1, 38), np.float64(0.46772523611290096)), ((1, 39), np.float64(0.46150245003682966))])\n",
      "aa (1, [((0, 0), np.float64(0.22866011093243246)), ((0, 1), np.float64(0.2732152172378963)), ((0, 2), np.float64(0.13156223701706704)), ((0, 3), np.float64(0.018121606281649414)), ((0, 4), np.float64(0.01786095012518756)), ((0, 5), np.float64(0.13173292415407875)), ((0, 6), np.float64(0.07640052201241501)), ((0, 7), np.float64(0.2246985154308446)), ((0, 8), np.float64(0.11397034625522336)), ((0, 9), np.float64(0.2516455893594877)), ((0, 10), np.float64(0.039530305154357306)), ((0, 11), np.float64(0.0972022637422099)), ((0, 12), np.float64(0.29836431971709765)), ((0, 13), np.float64(0.07946449087372405)), ((0, 14), np.float64(0.2816292965115746)), ((0, 15), np.float64(0.09032575274108631)), ((0, 16), np.float64(0.1327787657904944)), ((0, 17), np.float64(0.24419419572744375)), ((0, 18), np.float64(0.015722163765385527)), ((0, 19), np.float64(0.2600247112646205)), ((0, 20), np.float64(0.019486686737323285)), ((0, 21), np.float64(0.12153089789541044)), ((0, 22), np.float64(0.24890769263151202)), ((0, 23), np.float64(0.11349204630599491)), ((0, 24), np.float64(0.09912520652096288)), ((0, 25), np.float64(0.29045736303693376)), ((0, 26), np.float64(0.2708339440774345)), ((0, 27), np.float64(0.13250344730654964)), ((0, 28), np.float64(0.06709127349537988)), ((0, 29), np.float64(0.20289252260827756)), ((0, 30), np.float64(0.2414971174562595)), ((0, 31), np.float64(0.03056633603394493)), ((0, 32), np.float64(0.06883396523054032)), ((0, 33), np.float64(0.24358483176621432)), ((0, 34), np.float64(0.1341329469926055)), ((0, 35), np.float64(0.007653601206300904)), ((0, 36), np.float64(0.1495793793588024)), ((0, 37), np.float64(0.22948389528076346)), ((0, 38), np.float64(0.15154163519148603)), ((0, 39), np.float64(0.11269080142685034)), ((1, 0), np.float64(0.3806132203265871)), ((1, 1), np.float64(0.4547768443350049)), ((1, 2), np.float64(0.2189902143414609)), ((1, 3), np.float64(0.03016408457173891)), ((1, 4), np.float64(0.029730212749039527)), ((1, 5), np.float64(0.21927432940036398)), ((1, 6), np.float64(0.12717149746494372)), ((1, 7), np.float64(0.37401899794410853)), ((1, 8), np.float64(0.18970786086408767)), ((1, 9), np.float64(0.41887340015941305)), ((1, 10), np.float64(0.06579965645926998)), ((1, 11), np.float64(0.1617967667167317)), ((1, 12), np.float64(0.496638456506446)), ((1, 13), np.float64(0.13227158707186173)), ((1, 14), np.float64(0.46878239080036194)), ((1, 15), np.float64(0.15035055956640697)), ((1, 16), np.float64(0.22101517152435568)), ((1, 17), np.float64(0.4064702795860511)), ((1, 18), np.float64(0.02617012366889657)), ((1, 19), np.float64(0.4328207587906001)), ((1, 20), np.float64(0.03243631152955949)), ((1, 21), np.float64(0.20229267898335898)), ((1, 22), np.float64(0.41431606969059165)), ((1, 23), np.float64(0.1889117128905057)), ((1, 24), np.float64(0.16499757616504512)), ((1, 25), np.float64(0.48347703437318507)), ((1, 26), np.float64(0.45081312699757886)), ((1, 27), np.float64(0.22055689371471787)), ((1, 28), np.float64(0.1116759086521829)), ((1, 29), np.float64(0.33772211556802956)), ((1, 30), np.float64(0.4019808929497802)), ((1, 31), np.float64(0.05087879798546121)), ((1, 32), np.float64(0.11457668356500511)), ((1, 33), np.float64(0.40545597071211276)), ((1, 34), np.float64(0.22326925627109814)), ((1, 35), np.float64(0.01273970256704034)), ((1, 36), np.float64(0.24898041481764613)), ((1, 37), np.float64(0.3819844398733385)), ((1, 38), np.float64(0.2522466622997137)), ((1, 39), np.float64(0.18757801112469352))])\n",
      "240 key-value pairs were sent over a network.\n",
      "[(0, [((0, 1), np.float64(0.8375172395018693)), ((0, 2), np.float64(0.993281017551922)), ((0, 4), np.float64(0.7831220947801038)), ((0, 5), np.float64(1.3760154956274728)), ((0, 8), np.float64(1.3005983158922247)), ((0, 9), np.float64(1.1178824277791157)), ((0, 11), np.float64(0.9294122597256338)), ((0, 12), np.float64(0.4902394920003501)), ((0, 15), np.float64(0.8243870149581942)), ((0, 16), np.float64(0.8287525303224538)), ((0, 18), np.float64(1.2928925664900195)), ((0, 19), np.float64(1.2389865038204535)), ((0, 22), np.float64(1.5490603828194165)), ((0, 23), np.float64(1.2253329797185162)), ((0, 25), np.float64(0.9430510350470822)), ((0, 26), np.float64(0.6650811618905298)), ((0, 29), np.float64(0.8494045685959497)), ((0, 32), np.float64(1.2807100523969446)), ((0, 33), np.float64(1.19552677601296)), ((0, 36), np.float64(1.1088333222628806)), ((0, 39), np.float64(1.1005794924631898)), ((1, 0), np.float64(1.2319306773979841)), ((1, 1), np.float64(0.8880948567816761)), ((1, 3), np.float64(0.5690684758449489)), ((1, 4), np.float64(0.5960334160553715)), ((1, 7), np.float64(1.0609999279512738)), ((1, 10), np.float64(0.3880485731297459)), ((1, 11), np.float64(0.716555493078592)), ((1, 14), np.float64(1.1311870631697336)), ((1, 17), np.float64(1.3005816689518241)), ((1, 18), np.float64(0.9455717374851192)), ((1, 21), np.float64(1.1998950695566388)), ((1, 24), np.float64(0.5179813200243898)), ((1, 25), np.float64(0.9997289532739266)), ((1, 27), np.float64(0.7362905312383065)), ((1, 28), np.float64(0.629133067587915)), ((1, 31), np.float64(0.6299013853162898)), ((1, 32), np.float64(0.9169089803545949)), ((1, 34), np.float64(1.3425887165776895)), ((1, 35), np.float64(0.7652363545010269)), ((1, 38), np.float64(0.8912409380606726)), ((1, 39), np.float64(0.8323329116501458))]), (1, [((0, 0), np.float64(1.4237867361463106)), ((0, 3), np.float64(0.7227542867667021)), ((0, 6), np.float64(1.1776377430008824)), ((0, 7), np.float64(1.256173086771946)), ((0, 10), np.float64(0.5253506824166562)), ((0, 13), np.float64(1.0020906491567942)), ((0, 14), np.float64(1.2470858147183124)), ((0, 17), np.float64(1.4863731912487026)), ((0, 20), np.float64(0.6216313570339979)), ((0, 21), np.float64(1.5372952194435554)), ((0, 24), np.float64(0.6654716380306652)), ((0, 27), np.float64(0.8670651510888652)), ((0, 28), np.float64(0.9028965240356038)), ((0, 30), np.float64(1.2346389780962892)), ((0, 31), np.float64(0.8617602684736425)), ((0, 34), np.float64(1.7476257692344046)), ((0, 35), np.float64(1.0888530540016532)), ((0, 37), np.float64(1.2447016529944175)), ((0, 38), np.float64(1.1345162441288303)), ((1, 2), np.float64(0.780145101368655)), ((1, 5), np.float64(1.0512994560858122)), ((1, 6), np.float64(0.8762883463820884)), ((1, 8), np.float64(1.0260641284527918)), ((1, 9), np.float64(0.9475624819417072)), ((1, 12), np.float64(0.6398130595867317)), ((1, 13), np.float64(0.7904017029747284)), ((1, 15), np.float64(0.6639949236153084)), ((1, 16), np.float64(0.6669996718671745)), ((1, 19), np.float64(1.072635768338965)), ((1, 20), np.float64(0.46359989823005754)), ((1, 22), np.float64(1.3342777322961148)), ((1, 23), np.float64(0.926455551978553)), ((1, 26), np.float64(0.7491119238400901)), ((1, 29), np.float64(0.8356302906937905)), ((1, 30), np.float64(1.1231842245980166)), ((1, 33), np.float64(1.068788588329982)), ((1, 36), np.float64(0.9291609476250992)), ((1, 37), np.float64(1.112250760133069))])]\n",
      "[((0, 1), np.float64(0.8375172395018693)), ((0, 2), np.float64(0.993281017551922)), ((0, 4), np.float64(0.7831220947801038)), ((0, 5), np.float64(1.3760154956274728)), ((0, 8), np.float64(1.3005983158922247)), ((0, 9), np.float64(1.1178824277791157)), ((0, 11), np.float64(0.9294122597256338)), ((0, 12), np.float64(0.4902394920003501)), ((0, 15), np.float64(0.8243870149581942)), ((0, 16), np.float64(0.8287525303224538)), ((0, 18), np.float64(1.2928925664900195)), ((0, 19), np.float64(1.2389865038204535)), ((0, 22), np.float64(1.5490603828194165)), ((0, 23), np.float64(1.2253329797185162)), ((0, 25), np.float64(0.9430510350470822)), ((0, 26), np.float64(0.6650811618905298)), ((0, 29), np.float64(0.8494045685959497)), ((0, 32), np.float64(1.2807100523969446)), ((0, 33), np.float64(1.19552677601296)), ((0, 36), np.float64(1.1088333222628806)), ((0, 39), np.float64(1.1005794924631898)), ((1, 0), np.float64(1.2319306773979841)), ((1, 1), np.float64(0.8880948567816761)), ((1, 3), np.float64(0.5690684758449489)), ((1, 4), np.float64(0.5960334160553715)), ((1, 7), np.float64(1.0609999279512738)), ((1, 10), np.float64(0.3880485731297459)), ((1, 11), np.float64(0.716555493078592)), ((1, 14), np.float64(1.1311870631697336)), ((1, 17), np.float64(1.3005816689518241)), ((1, 18), np.float64(0.9455717374851192)), ((1, 21), np.float64(1.1998950695566388)), ((1, 24), np.float64(0.5179813200243898)), ((1, 25), np.float64(0.9997289532739266)), ((1, 27), np.float64(0.7362905312383065)), ((1, 28), np.float64(0.629133067587915)), ((1, 31), np.float64(0.6299013853162898)), ((1, 32), np.float64(0.9169089803545949)), ((1, 34), np.float64(1.3425887165776895)), ((1, 35), np.float64(0.7652363545010269)), ((1, 38), np.float64(0.8912409380606726)), ((1, 39), np.float64(0.8323329116501458)), ((0, 0), np.float64(1.4237867361463106)), ((0, 3), np.float64(0.7227542867667021)), ((0, 6), np.float64(1.1776377430008824)), ((0, 7), np.float64(1.256173086771946)), ((0, 10), np.float64(0.5253506824166562)), ((0, 13), np.float64(1.0020906491567942)), ((0, 14), np.float64(1.2470858147183124)), ((0, 17), np.float64(1.4863731912487026)), ((0, 20), np.float64(0.6216313570339979)), ((0, 21), np.float64(1.5372952194435554)), ((0, 24), np.float64(0.6654716380306652)), ((0, 27), np.float64(0.8670651510888652)), ((0, 28), np.float64(0.9028965240356038)), ((0, 30), np.float64(1.2346389780962892)), ((0, 31), np.float64(0.8617602684736425)), ((0, 34), np.float64(1.7476257692344046)), ((0, 35), np.float64(1.0888530540016532)), ((0, 37), np.float64(1.2447016529944175)), ((0, 38), np.float64(1.1345162441288303)), ((1, 2), np.float64(0.780145101368655)), ((1, 5), np.float64(1.0512994560858122)), ((1, 6), np.float64(0.8762883463820884)), ((1, 8), np.float64(1.0260641284527918)), ((1, 9), np.float64(0.9475624819417072)), ((1, 12), np.float64(0.6398130595867317)), ((1, 13), np.float64(0.7904017029747284)), ((1, 15), np.float64(0.6639949236153084)), ((1, 16), np.float64(0.6669996718671745)), ((1, 19), np.float64(1.072635768338965)), ((1, 20), np.float64(0.46359989823005754)), ((1, 22), np.float64(1.3342777322961148)), ((1, 23), np.float64(0.926455551978553)), ((1, 26), np.float64(0.7491119238400901)), ((1, 29), np.float64(0.8356302906937905)), ((1, 30), np.float64(1.1231842245980166)), ((1, 33), np.float64(1.068788588329982)), ((1, 36), np.float64(0.9291609476250992)), ((1, 37), np.float64(1.112250760133069))]\n",
      "MapReduce успешно выполнен!\n"
     ]
    }
   ],
   "execution_count": 179
  }
 ]
}
